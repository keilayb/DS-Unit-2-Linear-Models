{
 "cells": [
  {
   "cell_type": "markdown",
   "metadata": {},
   "source": [
    "Lambda School Data Science\n",
    "\n",
    "*Unit 2, Sprint 1, Module 1*\n",
    "\n",
    "---"
   ]
  },
  {
   "cell_type": "markdown",
   "metadata": {
    "colab_type": "text",
    "id": "7IXUfiQ2UKj6"
   },
   "source": [
    "# Regression 1\n",
    "\n",
    "## Assignment\n",
    "\n",
    "You'll use another **New York City** real estate dataset. \n",
    "\n",
    "But now you'll **predict how much it costs to rent an apartment**, instead of how much it costs to buy a condo.\n",
    "\n",
    "The data comes from renthop.com, an apartment listing website.\n",
    "\n",
    "- [x] Look at the data. Choose a feature, and plot its relationship with the target.\n",
    "- [x] Use scikit-learn for linear regression with one feature. You can follow the [5-step process from Jake VanderPlas](https://jakevdp.github.io/PythonDataScienceHandbook/05.02-introducing-scikit-learn.html#Basics-of-the-API).\n",
    "- [x] Define a function to make new predictions and explain the model coefficient.\n",
    "- [x] Organize and comment your code.\n",
    "\n",
    "> [Do Not Copy-Paste.](https://docs.google.com/document/d/1ubOw9B3Hfip27hF2ZFnW3a3z9xAgrUDRReOEo-FHCVs/edit) You must type each of these exercises in, manually. If you copy and paste, you might as well not even do them. The point of these exercises is to train your hands, your brain, and your mind in how to read, write, and see code. If you copy-paste, you are cheating yourself out of the effectiveness of the lessons.\n",
    "\n",
    "If your **Plotly** visualizations aren't working:\n",
    "- You must have JavaScript enabled in your browser\n",
    "- You probably want to use Chrome or Firefox\n",
    "- You may need to turn off ad blockers\n",
    "- [If you're using Jupyter Lab locally, you need to install some \"extensions\"](https://plot.ly/python/getting-started/#jupyterlab-support-python-35)\n",
    "\n",
    "## Stretch Goals\n",
    "- [x] Do linear regression with two or more features.\n",
    "- [x] Read [The Discovery of Statistical Regression](https://priceonomics.com/the-discovery-of-statistical-regression/)\n",
    "- [ ] Read [_An Introduction to Statistical Learning_](http://faculty.marshall.usc.edu/gareth-james/ISL/ISLR%20Seventh%20Printing.pdf), Chapter 2.1: What Is Statistical Learning?"
   ]
  },
  {
   "cell_type": "markdown",
   "metadata": {},
   "source": [
    "# Assignment"
   ]
  },
  {
   "cell_type": "markdown",
   "metadata": {},
   "source": [
    "## Model using Bedroom Number"
   ]
  },
  {
   "cell_type": "markdown",
   "metadata": {},
   "source": [
    "### Wrangle Data"
   ]
  },
  {
   "cell_type": "code",
   "execution_count": 16,
   "metadata": {
    "colab": {},
    "colab_type": "code",
    "id": "o9eSnDYhUGD7"
   },
   "outputs": [],
   "source": [
    "import sys\n",
    "\n",
    "# If you're on Colab:\n",
    "if 'google.colab' in sys.modules:\n",
    "    DATA_PATH = 'https://raw.githubusercontent.com/LambdaSchool/DS-Unit-2-Applied-Modeling/master/data/'\n",
    "\n",
    "# If you're working locally:\n",
    "else:\n",
    "    DATA_PATH = '/Users/keila/Documents/Lambda/Units_Git/DS-Unit-2-Linear-Models/data/'\n",
    "    \n",
    "# Ignore this Numpy warning when using Plotly Express:\n",
    "# FutureWarning: Method .ptp is deprecated and will be removed in a future version. Use numpy.ptp instead.\n",
    "import warnings\n",
    "warnings.filterwarnings(action='ignore', category=FutureWarning, module='numpy')"
   ]
  },
  {
   "cell_type": "code",
   "execution_count": 17,
   "metadata": {
    "colab": {},
    "colab_type": "code",
    "id": "4S2wXSrFV_g4"
   },
   "outputs": [],
   "source": [
    "# Read New York City apartment rental listing data\n",
    "import pandas as pd\n",
    "df = pd.read_csv(DATA_PATH+'apartments/renthop-nyc.csv')\n",
    "assert df.shape == (49352, 34)"
   ]
  },
  {
   "cell_type": "code",
   "execution_count": 18,
   "metadata": {},
   "outputs": [],
   "source": [
    "# Remove outliers: \n",
    "# the most extreme 1% prices,\n",
    "# the most extreme .1% latitudes, &\n",
    "# the most extreme .1% longitudes\n",
    "df = df[(df['price'] >= 1375) & (df['price'] <= 15500) & \n",
    "        (df['latitude'] >=40.57) & (df['latitude'] < 40.99) &\n",
    "        (df['longitude'] >= -74.1) & (df['longitude'] <= -73.38)]"
   ]
  },
  {
   "cell_type": "code",
   "execution_count": 19,
   "metadata": {
    "scrolled": true
   },
   "outputs": [
    {
     "data": {
      "text/html": [
       "<div>\n",
       "<style scoped>\n",
       "    .dataframe tbody tr th:only-of-type {\n",
       "        vertical-align: middle;\n",
       "    }\n",
       "\n",
       "    .dataframe tbody tr th {\n",
       "        vertical-align: top;\n",
       "    }\n",
       "\n",
       "    .dataframe thead th {\n",
       "        text-align: right;\n",
       "    }\n",
       "</style>\n",
       "<table border=\"1\" class=\"dataframe\">\n",
       "  <thead>\n",
       "    <tr style=\"text-align: right;\">\n",
       "      <th></th>\n",
       "      <th>bathrooms</th>\n",
       "      <th>bedrooms</th>\n",
       "      <th>created</th>\n",
       "      <th>description</th>\n",
       "      <th>display_address</th>\n",
       "      <th>latitude</th>\n",
       "      <th>longitude</th>\n",
       "      <th>price</th>\n",
       "      <th>street_address</th>\n",
       "      <th>interest_level</th>\n",
       "      <th>...</th>\n",
       "      <th>high_speed_internet</th>\n",
       "      <th>balcony</th>\n",
       "      <th>swimming_pool</th>\n",
       "      <th>new_construction</th>\n",
       "      <th>terrace</th>\n",
       "      <th>exclusive</th>\n",
       "      <th>loft</th>\n",
       "      <th>garden_patio</th>\n",
       "      <th>wheelchair_access</th>\n",
       "      <th>common_outdoor_space</th>\n",
       "    </tr>\n",
       "  </thead>\n",
       "  <tbody>\n",
       "    <tr>\n",
       "      <th>0</th>\n",
       "      <td>1.5</td>\n",
       "      <td>3</td>\n",
       "      <td>2016-06-24 07:54:24</td>\n",
       "      <td>A Brand New 3 Bedroom 1.5 bath ApartmentEnjoy ...</td>\n",
       "      <td>Metropolitan Avenue</td>\n",
       "      <td>40.7145</td>\n",
       "      <td>-73.9425</td>\n",
       "      <td>3000</td>\n",
       "      <td>792 Metropolitan Avenue</td>\n",
       "      <td>medium</td>\n",
       "      <td>...</td>\n",
       "      <td>0</td>\n",
       "      <td>0</td>\n",
       "      <td>0</td>\n",
       "      <td>0</td>\n",
       "      <td>0</td>\n",
       "      <td>0</td>\n",
       "      <td>0</td>\n",
       "      <td>0</td>\n",
       "      <td>0</td>\n",
       "      <td>0</td>\n",
       "    </tr>\n",
       "    <tr>\n",
       "      <th>1</th>\n",
       "      <td>1.0</td>\n",
       "      <td>2</td>\n",
       "      <td>2016-06-12 12:19:27</td>\n",
       "      <td></td>\n",
       "      <td>Columbus Avenue</td>\n",
       "      <td>40.7947</td>\n",
       "      <td>-73.9667</td>\n",
       "      <td>5465</td>\n",
       "      <td>808 Columbus Avenue</td>\n",
       "      <td>low</td>\n",
       "      <td>...</td>\n",
       "      <td>0</td>\n",
       "      <td>0</td>\n",
       "      <td>0</td>\n",
       "      <td>0</td>\n",
       "      <td>0</td>\n",
       "      <td>0</td>\n",
       "      <td>0</td>\n",
       "      <td>0</td>\n",
       "      <td>0</td>\n",
       "      <td>0</td>\n",
       "    </tr>\n",
       "    <tr>\n",
       "      <th>2</th>\n",
       "      <td>1.0</td>\n",
       "      <td>1</td>\n",
       "      <td>2016-04-17 03:26:41</td>\n",
       "      <td>Top Top West Village location, beautiful Pre-w...</td>\n",
       "      <td>W 13 Street</td>\n",
       "      <td>40.7388</td>\n",
       "      <td>-74.0018</td>\n",
       "      <td>2850</td>\n",
       "      <td>241 W 13 Street</td>\n",
       "      <td>high</td>\n",
       "      <td>...</td>\n",
       "      <td>0</td>\n",
       "      <td>0</td>\n",
       "      <td>0</td>\n",
       "      <td>0</td>\n",
       "      <td>0</td>\n",
       "      <td>0</td>\n",
       "      <td>0</td>\n",
       "      <td>0</td>\n",
       "      <td>0</td>\n",
       "      <td>0</td>\n",
       "    </tr>\n",
       "    <tr>\n",
       "      <th>3</th>\n",
       "      <td>1.0</td>\n",
       "      <td>1</td>\n",
       "      <td>2016-04-18 02:22:02</td>\n",
       "      <td>Building Amenities - Garage - Garden - fitness...</td>\n",
       "      <td>East 49th Street</td>\n",
       "      <td>40.7539</td>\n",
       "      <td>-73.9677</td>\n",
       "      <td>3275</td>\n",
       "      <td>333 East 49th Street</td>\n",
       "      <td>low</td>\n",
       "      <td>...</td>\n",
       "      <td>0</td>\n",
       "      <td>0</td>\n",
       "      <td>0</td>\n",
       "      <td>0</td>\n",
       "      <td>0</td>\n",
       "      <td>0</td>\n",
       "      <td>0</td>\n",
       "      <td>0</td>\n",
       "      <td>0</td>\n",
       "      <td>0</td>\n",
       "    </tr>\n",
       "    <tr>\n",
       "      <th>4</th>\n",
       "      <td>1.0</td>\n",
       "      <td>4</td>\n",
       "      <td>2016-04-28 01:32:41</td>\n",
       "      <td>Beautifully renovated 3 bedroom flex 4 bedroom...</td>\n",
       "      <td>West 143rd Street</td>\n",
       "      <td>40.8241</td>\n",
       "      <td>-73.9493</td>\n",
       "      <td>3350</td>\n",
       "      <td>500 West 143rd Street</td>\n",
       "      <td>low</td>\n",
       "      <td>...</td>\n",
       "      <td>0</td>\n",
       "      <td>0</td>\n",
       "      <td>0</td>\n",
       "      <td>0</td>\n",
       "      <td>0</td>\n",
       "      <td>0</td>\n",
       "      <td>0</td>\n",
       "      <td>0</td>\n",
       "      <td>0</td>\n",
       "      <td>0</td>\n",
       "    </tr>\n",
       "  </tbody>\n",
       "</table>\n",
       "<p>5 rows × 34 columns</p>\n",
       "</div>"
      ],
      "text/plain": [
       "   bathrooms  bedrooms              created  \\\n",
       "0        1.5         3  2016-06-24 07:54:24   \n",
       "1        1.0         2  2016-06-12 12:19:27   \n",
       "2        1.0         1  2016-04-17 03:26:41   \n",
       "3        1.0         1  2016-04-18 02:22:02   \n",
       "4        1.0         4  2016-04-28 01:32:41   \n",
       "\n",
       "                                         description      display_address  \\\n",
       "0  A Brand New 3 Bedroom 1.5 bath ApartmentEnjoy ...  Metropolitan Avenue   \n",
       "1                                                         Columbus Avenue   \n",
       "2  Top Top West Village location, beautiful Pre-w...          W 13 Street   \n",
       "3  Building Amenities - Garage - Garden - fitness...     East 49th Street   \n",
       "4  Beautifully renovated 3 bedroom flex 4 bedroom...    West 143rd Street   \n",
       "\n",
       "   latitude  longitude  price           street_address interest_level  ...  \\\n",
       "0   40.7145   -73.9425   3000  792 Metropolitan Avenue         medium  ...   \n",
       "1   40.7947   -73.9667   5465      808 Columbus Avenue            low  ...   \n",
       "2   40.7388   -74.0018   2850          241 W 13 Street           high  ...   \n",
       "3   40.7539   -73.9677   3275     333 East 49th Street            low  ...   \n",
       "4   40.8241   -73.9493   3350    500 West 143rd Street            low  ...   \n",
       "\n",
       "   high_speed_internet  balcony  swimming_pool  new_construction  terrace  \\\n",
       "0                    0        0              0                 0        0   \n",
       "1                    0        0              0                 0        0   \n",
       "2                    0        0              0                 0        0   \n",
       "3                    0        0              0                 0        0   \n",
       "4                    0        0              0                 0        0   \n",
       "\n",
       "   exclusive  loft  garden_patio  wheelchair_access  common_outdoor_space  \n",
       "0          0     0             0                  0                     0  \n",
       "1          0     0             0                  0                     0  \n",
       "2          0     0             0                  0                     0  \n",
       "3          0     0             0                  0                     0  \n",
       "4          0     0             0                  0                     0  \n",
       "\n",
       "[5 rows x 34 columns]"
      ]
     },
     "execution_count": 19,
     "metadata": {},
     "output_type": "execute_result"
    }
   ],
   "source": [
    "# Take a look at what some of the data looks like\n",
    "df.head()"
   ]
  },
  {
   "cell_type": "code",
   "execution_count": 20,
   "metadata": {
    "scrolled": true
   },
   "outputs": [
    {
     "name": "stdout",
     "output_type": "stream",
     "text": [
      "<class 'pandas.core.frame.DataFrame'>\n",
      "Int64Index: 48818 entries, 0 to 49351\n",
      "Data columns (total 34 columns):\n",
      " #   Column                Non-Null Count  Dtype  \n",
      "---  ------                --------------  -----  \n",
      " 0   bathrooms             48818 non-null  float64\n",
      " 1   bedrooms              48818 non-null  int64  \n",
      " 2   created               48818 non-null  object \n",
      " 3   description           47393 non-null  object \n",
      " 4   display_address       48685 non-null  object \n",
      " 5   latitude              48818 non-null  float64\n",
      " 6   longitude             48818 non-null  float64\n",
      " 7   price                 48818 non-null  int64  \n",
      " 8   street_address        48808 non-null  object \n",
      " 9   interest_level        48818 non-null  object \n",
      " 10  elevator              48818 non-null  int64  \n",
      " 11  cats_allowed          48818 non-null  int64  \n",
      " 12  hardwood_floors       48818 non-null  int64  \n",
      " 13  dogs_allowed          48818 non-null  int64  \n",
      " 14  doorman               48818 non-null  int64  \n",
      " 15  dishwasher            48818 non-null  int64  \n",
      " 16  no_fee                48818 non-null  int64  \n",
      " 17  laundry_in_building   48818 non-null  int64  \n",
      " 18  fitness_center        48818 non-null  int64  \n",
      " 19  pre-war               48818 non-null  int64  \n",
      " 20  laundry_in_unit       48818 non-null  int64  \n",
      " 21  roof_deck             48818 non-null  int64  \n",
      " 22  outdoor_space         48818 non-null  int64  \n",
      " 23  dining_room           48818 non-null  int64  \n",
      " 24  high_speed_internet   48818 non-null  int64  \n",
      " 25  balcony               48818 non-null  int64  \n",
      " 26  swimming_pool         48818 non-null  int64  \n",
      " 27  new_construction      48818 non-null  int64  \n",
      " 28  terrace               48818 non-null  int64  \n",
      " 29  exclusive             48818 non-null  int64  \n",
      " 30  loft                  48818 non-null  int64  \n",
      " 31  garden_patio          48818 non-null  int64  \n",
      " 32  wheelchair_access     48818 non-null  int64  \n",
      " 33  common_outdoor_space  48818 non-null  int64  \n",
      "dtypes: float64(3), int64(26), object(5)\n",
      "memory usage: 13.0+ MB\n"
     ]
    }
   ],
   "source": [
    "# Let's see if there are any missing values and the dtype of each feature\n",
    "df.info()"
   ]
  },
  {
   "cell_type": "code",
   "execution_count": 21,
   "metadata": {},
   "outputs": [],
   "source": [
    "# There are a few null values. I want to drop those, set the index to creation time of entry,\n",
    "# and only keep the features I will be using.\n",
    "\n",
    "def wrangle(df):\n",
    "    df.dropna(inplace = True)\n",
    "    df.set_index(['created'], inplace = True)\n",
    "    df = df[['price','bathrooms', 'bedrooms', 'dishwasher', 'longitude', 'latitude', 'laundry_in_unit']]\n",
    "    return df"
   ]
  },
  {
   "cell_type": "code",
   "execution_count": 22,
   "metadata": {},
   "outputs": [
    {
     "data": {
      "text/html": [
       "<div>\n",
       "<style scoped>\n",
       "    .dataframe tbody tr th:only-of-type {\n",
       "        vertical-align: middle;\n",
       "    }\n",
       "\n",
       "    .dataframe tbody tr th {\n",
       "        vertical-align: top;\n",
       "    }\n",
       "\n",
       "    .dataframe thead th {\n",
       "        text-align: right;\n",
       "    }\n",
       "</style>\n",
       "<table border=\"1\" class=\"dataframe\">\n",
       "  <thead>\n",
       "    <tr style=\"text-align: right;\">\n",
       "      <th></th>\n",
       "      <th>price</th>\n",
       "      <th>bathrooms</th>\n",
       "      <th>bedrooms</th>\n",
       "      <th>dishwasher</th>\n",
       "      <th>longitude</th>\n",
       "      <th>latitude</th>\n",
       "      <th>laundry_in_unit</th>\n",
       "    </tr>\n",
       "    <tr>\n",
       "      <th>created</th>\n",
       "      <th></th>\n",
       "      <th></th>\n",
       "      <th></th>\n",
       "      <th></th>\n",
       "      <th></th>\n",
       "      <th></th>\n",
       "      <th></th>\n",
       "    </tr>\n",
       "  </thead>\n",
       "  <tbody>\n",
       "    <tr>\n",
       "      <th>2016-06-24 07:54:24</th>\n",
       "      <td>3000</td>\n",
       "      <td>1.5</td>\n",
       "      <td>3</td>\n",
       "      <td>0</td>\n",
       "      <td>-73.9425</td>\n",
       "      <td>40.7145</td>\n",
       "      <td>0</td>\n",
       "    </tr>\n",
       "    <tr>\n",
       "      <th>2016-06-12 12:19:27</th>\n",
       "      <td>5465</td>\n",
       "      <td>1.0</td>\n",
       "      <td>2</td>\n",
       "      <td>0</td>\n",
       "      <td>-73.9667</td>\n",
       "      <td>40.7947</td>\n",
       "      <td>0</td>\n",
       "    </tr>\n",
       "    <tr>\n",
       "      <th>2016-04-17 03:26:41</th>\n",
       "      <td>2850</td>\n",
       "      <td>1.0</td>\n",
       "      <td>1</td>\n",
       "      <td>1</td>\n",
       "      <td>-74.0018</td>\n",
       "      <td>40.7388</td>\n",
       "      <td>0</td>\n",
       "    </tr>\n",
       "    <tr>\n",
       "      <th>2016-04-18 02:22:02</th>\n",
       "      <td>3275</td>\n",
       "      <td>1.0</td>\n",
       "      <td>1</td>\n",
       "      <td>0</td>\n",
       "      <td>-73.9677</td>\n",
       "      <td>40.7539</td>\n",
       "      <td>0</td>\n",
       "    </tr>\n",
       "    <tr>\n",
       "      <th>2016-04-28 01:32:41</th>\n",
       "      <td>3350</td>\n",
       "      <td>1.0</td>\n",
       "      <td>4</td>\n",
       "      <td>0</td>\n",
       "      <td>-73.9493</td>\n",
       "      <td>40.8241</td>\n",
       "      <td>0</td>\n",
       "    </tr>\n",
       "  </tbody>\n",
       "</table>\n",
       "</div>"
      ],
      "text/plain": [
       "                     price  bathrooms  bedrooms  dishwasher  longitude  \\\n",
       "created                                                                  \n",
       "2016-06-24 07:54:24   3000        1.5         3           0   -73.9425   \n",
       "2016-06-12 12:19:27   5465        1.0         2           0   -73.9667   \n",
       "2016-04-17 03:26:41   2850        1.0         1           1   -74.0018   \n",
       "2016-04-18 02:22:02   3275        1.0         1           0   -73.9677   \n",
       "2016-04-28 01:32:41   3350        1.0         4           0   -73.9493   \n",
       "\n",
       "                     latitude  laundry_in_unit  \n",
       "created                                         \n",
       "2016-06-24 07:54:24   40.7145                0  \n",
       "2016-06-12 12:19:27   40.7947                0  \n",
       "2016-04-17 03:26:41   40.7388                0  \n",
       "2016-04-18 02:22:02   40.7539                0  \n",
       "2016-04-28 01:32:41   40.8241                0  "
      ]
     },
     "execution_count": 22,
     "metadata": {},
     "output_type": "execute_result"
    }
   ],
   "source": [
    "# Apply the function to df\n",
    "df = wrangle(df)\n",
    "\n",
    "# Let's take a look at what df looks like now\n",
    "df.head()\n",
    "\n",
    "# Want to double check shape of df\n",
    "print(df.shape)"
   ]
  },
  {
   "cell_type": "markdown",
   "metadata": {},
   "source": [
    "### Split Data"
   ]
  },
  {
   "cell_type": "code",
   "execution_count": 23,
   "metadata": {},
   "outputs": [],
   "source": [
    "# Arrange X features matrix & y target vector\n",
    "X = df[['bedrooms']]\n",
    "y = df['price']"
   ]
  },
  {
   "cell_type": "markdown",
   "metadata": {},
   "source": [
    "### Establish Baseline"
   ]
  },
  {
   "cell_type": "code",
   "execution_count": 24,
   "metadata": {},
   "outputs": [
    {
     "name": "stdout",
     "output_type": "stream",
     "text": [
      "Mean rent price: 3578.0165040942848\n",
      "Baseline MAE: 1203.1825021400039\n"
     ]
    }
   ],
   "source": [
    "# Import the needed estimator class from Scikit-Learn\n",
    "from sklearn.linear_model import LinearRegression\n",
    "from sklearn.metrics import mean_absolute_error\n",
    "\n",
    "# Set up my baseline\n",
    "print('Mean rent price:', y.mean())\n",
    "y_pred = [y.mean()] * len(y)\n",
    "\n",
    "print('Baseline MAE:', mean_absolute_error(y, y_pred))"
   ]
  },
  {
   "cell_type": "markdown",
   "metadata": {},
   "source": [
    "### Build Model"
   ]
  },
  {
   "cell_type": "code",
   "execution_count": 25,
   "metadata": {},
   "outputs": [
    {
     "data": {
      "text/plain": [
       "LinearRegression()"
      ]
     },
     "execution_count": 25,
     "metadata": {},
     "output_type": "execute_result"
    }
   ],
   "source": [
    "# Instantiate class\n",
    "model = LinearRegression()\n",
    "\n",
    "# Fit model\n",
    "model.fit(X, y)"
   ]
  },
  {
   "cell_type": "code",
   "execution_count": 26,
   "metadata": {},
   "outputs": [
    {
     "data": {
      "image/png": "[encoded data removed]",
      "text/plain": [
       "<Figure size 432x288 with 1 Axes>"
      ]
     },
     "metadata": {
      "needs_background": "light"
     },
     "output_type": "display_data"
    }
   ],
   "source": [
    "# import matplotlib.pylot\n",
    "import matplotlib.pyplot as plt\n",
    "\n",
    "# visualize model\n",
    "plt.scatter(df['bedrooms'], df['price'])\n",
    "plt.plot(df['bedrooms'], y_pred, label = 'Baseline Model', color = 'brown')\n",
    "plt.plot(X, model.predict(X), label = 'Linear Model', color = 'green')\n",
    "plt.xlabel('Bedrooms')\n",
    "plt.ylabel('Rent Price')\n",
    "plt.legend()\n",
    "\n",
    "plt.show()"
   ]
  },
  {
   "cell_type": "markdown",
   "metadata": {},
   "source": [
    "### Check Metrics"
   ]
  },
  {
   "cell_type": "code",
   "execution_count": 27,
   "metadata": {},
   "outputs": [
    {
     "name": "stdout",
     "output_type": "stream",
     "text": [
      "Training MAE: 973.2377536991468\n"
     ]
    }
   ],
   "source": [
    "# look at MAE using the model\n",
    "print('Training MAE:', mean_absolute_error(y, model.predict(X)))"
   ]
  },
  {
   "cell_type": "markdown",
   "metadata": {},
   "source": [
    "### Communicate Results"
   ]
  },
  {
   "cell_type": "code",
   "execution_count": 28,
   "metadata": {},
   "outputs": [],
   "source": [
    "# write a function to communicate results of model\n",
    "def predictions(bedroom_num):\n",
    "    y_pred = model.predict([[bedroom_num]])\n",
    "    estimate = y_pred[0]\n",
    "    coefficient = model.coef_[0]\n",
    "    result = f'When predicting the rent for a {bedroom_num} bedroom apartment our model estimates the rent will be ${estimate:,.2f}.'\n",
    "    explanation = f'Each additional bedroom adds ${coefficient:,.2f} to the rent.'\n",
    "    return result + '\\n' + explanation\n"
   ]
  },
  {
   "cell_type": "code",
   "execution_count": 29,
   "metadata": {
    "scrolled": true
   },
   "outputs": [
    {
     "name": "stdout",
     "output_type": "stream",
     "text": [
      "When predicting the rent for a 10 bedroom apartment our model estimates the rent will be $10,806.66.\n",
      "Each additional bedroom adds $854.86 to the rent.\n"
     ]
    }
   ],
   "source": [
    "# test out function\n",
    "print(predictions(10))"
   ]
  },
  {
   "cell_type": "code",
   "execution_count": 30,
   "metadata": {
    "scrolled": true
   },
   "outputs": [
    {
     "name": "stdout",
     "output_type": "stream",
     "text": [
      "When predicting the rent for a 2 bedroom apartment our model estimates the rent will be $3,967.81.\n",
      "Each additional bedroom adds $854.86 to the rent.\n"
     ]
    }
   ],
   "source": [
    "# test out function again\n",
    "print(predictions(2))"
   ]
  },
  {
   "cell_type": "markdown",
   "metadata": {},
   "source": [
    "## Model using Appliances in Unit"
   ]
  },
  {
   "cell_type": "markdown",
   "metadata": {},
   "source": [
    "### Wrangle Data "
   ]
  },
  {
   "cell_type": "code",
   "execution_count": 31,
   "metadata": {
    "scrolled": true
   },
   "outputs": [
    {
     "data": {
      "text/html": [
       "<div>\n",
       "<style scoped>\n",
       "    .dataframe tbody tr th:only-of-type {\n",
       "        vertical-align: middle;\n",
       "    }\n",
       "\n",
       "    .dataframe tbody tr th {\n",
       "        vertical-align: top;\n",
       "    }\n",
       "\n",
       "    .dataframe thead th {\n",
       "        text-align: right;\n",
       "    }\n",
       "</style>\n",
       "<table border=\"1\" class=\"dataframe\">\n",
       "  <thead>\n",
       "    <tr style=\"text-align: right;\">\n",
       "      <th></th>\n",
       "      <th>price</th>\n",
       "      <th>bathrooms</th>\n",
       "      <th>bedrooms</th>\n",
       "      <th>dishwasher</th>\n",
       "      <th>longitude</th>\n",
       "      <th>latitude</th>\n",
       "      <th>laundry_in_unit</th>\n",
       "      <th>appliances_in_unit</th>\n",
       "    </tr>\n",
       "    <tr>\n",
       "      <th>created</th>\n",
       "      <th></th>\n",
       "      <th></th>\n",
       "      <th></th>\n",
       "      <th></th>\n",
       "      <th></th>\n",
       "      <th></th>\n",
       "      <th></th>\n",
       "      <th></th>\n",
       "    </tr>\n",
       "  </thead>\n",
       "  <tbody>\n",
       "    <tr>\n",
       "      <th>2016-06-24 07:54:24</th>\n",
       "      <td>3000</td>\n",
       "      <td>1.5</td>\n",
       "      <td>3</td>\n",
       "      <td>0</td>\n",
       "      <td>-73.9425</td>\n",
       "      <td>40.7145</td>\n",
       "      <td>0</td>\n",
       "      <td>0</td>\n",
       "    </tr>\n",
       "    <tr>\n",
       "      <th>2016-06-12 12:19:27</th>\n",
       "      <td>5465</td>\n",
       "      <td>1.0</td>\n",
       "      <td>2</td>\n",
       "      <td>0</td>\n",
       "      <td>-73.9667</td>\n",
       "      <td>40.7947</td>\n",
       "      <td>0</td>\n",
       "      <td>0</td>\n",
       "    </tr>\n",
       "    <tr>\n",
       "      <th>2016-04-17 03:26:41</th>\n",
       "      <td>2850</td>\n",
       "      <td>1.0</td>\n",
       "      <td>1</td>\n",
       "      <td>1</td>\n",
       "      <td>-74.0018</td>\n",
       "      <td>40.7388</td>\n",
       "      <td>0</td>\n",
       "      <td>1</td>\n",
       "    </tr>\n",
       "    <tr>\n",
       "      <th>2016-04-18 02:22:02</th>\n",
       "      <td>3275</td>\n",
       "      <td>1.0</td>\n",
       "      <td>1</td>\n",
       "      <td>0</td>\n",
       "      <td>-73.9677</td>\n",
       "      <td>40.7539</td>\n",
       "      <td>0</td>\n",
       "      <td>0</td>\n",
       "    </tr>\n",
       "    <tr>\n",
       "      <th>2016-04-28 01:32:41</th>\n",
       "      <td>3350</td>\n",
       "      <td>1.0</td>\n",
       "      <td>4</td>\n",
       "      <td>0</td>\n",
       "      <td>-73.9493</td>\n",
       "      <td>40.8241</td>\n",
       "      <td>0</td>\n",
       "      <td>0</td>\n",
       "    </tr>\n",
       "  </tbody>\n",
       "</table>\n",
       "</div>"
      ],
      "text/plain": [
       "                     price  bathrooms  bedrooms  dishwasher  longitude  \\\n",
       "created                                                                  \n",
       "2016-06-24 07:54:24   3000        1.5         3           0   -73.9425   \n",
       "2016-06-12 12:19:27   5465        1.0         2           0   -73.9667   \n",
       "2016-04-17 03:26:41   2850        1.0         1           1   -74.0018   \n",
       "2016-04-18 02:22:02   3275        1.0         1           0   -73.9677   \n",
       "2016-04-28 01:32:41   3350        1.0         4           0   -73.9493   \n",
       "\n",
       "                     latitude  laundry_in_unit  appliances_in_unit  \n",
       "created                                                             \n",
       "2016-06-24 07:54:24   40.7145                0                   0  \n",
       "2016-06-12 12:19:27   40.7947                0                   0  \n",
       "2016-04-17 03:26:41   40.7388                0                   1  \n",
       "2016-04-18 02:22:02   40.7539                0                   0  \n",
       "2016-04-28 01:32:41   40.8241                0                   0  "
      ]
     },
     "execution_count": 31,
     "metadata": {},
     "output_type": "execute_result"
    }
   ],
   "source": [
    "# create new feature to see if appliance number can be used to estimate rent\n",
    "df['appliances_in_unit'] = df['dishwasher'] + df['laundry_in_unit']\n",
    "\n",
    "#take a look at new feature I made\n",
    "df.head()"
   ]
  },
  {
   "cell_type": "markdown",
   "metadata": {},
   "source": [
    "### Split Data"
   ]
  },
  {
   "cell_type": "code",
   "execution_count": 37,
   "metadata": {},
   "outputs": [],
   "source": [
    "# Arrange X features matrix & y target vector for second model\n",
    "X2 = df[['appliances_in_unit']]\n",
    "y2 = df['price']"
   ]
  },
  {
   "cell_type": "markdown",
   "metadata": {},
   "source": [
    "### Establish Baseline"
   ]
  },
  {
   "cell_type": "code",
   "execution_count": 38,
   "metadata": {},
   "outputs": [
    {
     "name": "stdout",
     "output_type": "stream",
     "text": [
      "Mean Rent Price: 3578.0165040942848\n",
      "Baseline MAE: 1203.1825021400039\n"
     ]
    }
   ],
   "source": [
    "# set the baseline up again (same as one above, just nice to have it here for quick reference)\n",
    "\n",
    "print('Mean Rent Price:', y2.mean())\n",
    "y2_pred = [y2.mean()]*len(y2)\n",
    "\n",
    "print('Baseline MAE:', mean_absolute_error(y2, y2_pred))"
   ]
  },
  {
   "cell_type": "markdown",
   "metadata": {},
   "source": [
    "### Build Model"
   ]
  },
  {
   "cell_type": "code",
   "execution_count": 39,
   "metadata": {},
   "outputs": [
    {
     "data": {
      "text/plain": [
       "LinearRegression()"
      ]
     },
     "execution_count": 39,
     "metadata": {},
     "output_type": "execute_result"
    }
   ],
   "source": [
    "# Instantiate class\n",
    "model2 = LinearRegression()\n",
    "\n",
    "# Fit new model\n",
    "model2.fit(X2, y2)"
   ]
  },
  {
   "cell_type": "code",
   "execution_count": 40,
   "metadata": {},
   "outputs": [
    {
     "data": {
      "image/png": "[encoded data removed]",
      "text/plain": [
       "<Figure size 432x288 with 1 Axes>"
      ]
     },
     "metadata": {
      "needs_background": "light"
     },
     "output_type": "display_data"
    }
   ],
   "source": [
    "# visualize the new model\n",
    "plt.scatter(df['appliances_in_unit'], df['price'])\n",
    "plt.plot(df['appliances_in_unit'], y2_pred, label = 'Baseline Model', color = 'brown')\n",
    "plt.plot(X2, model2.predict(X2), label = 'Linear Model', color = 'green')\n",
    "plt.legend()\n",
    "\n",
    "plt.show()"
   ]
  },
  {
   "cell_type": "markdown",
   "metadata": {},
   "source": [
    "### Check Metrics"
   ]
  },
  {
   "cell_type": "code",
   "execution_count": 41,
   "metadata": {},
   "outputs": [
    {
     "name": "stdout",
     "output_type": "stream",
     "text": [
      "Training MAE: 1166.4544241193316\n"
     ]
    }
   ],
   "source": [
    "# look at MAE using the new model\n",
    "print('Training MAE:', mean_absolute_error(y2, model.predict(X2)))"
   ]
  },
  {
   "cell_type": "markdown",
   "metadata": {},
   "source": [
    "### Communicate Results"
   ]
  },
  {
   "cell_type": "code",
   "execution_count": 42,
   "metadata": {},
   "outputs": [],
   "source": [
    "# write a function that estimates rent with appliance number\n",
    "def predictions2(appliance_num):\n",
    "    y_pred = model2.predict([[appliance_num]])\n",
    "    estimate = y_pred[0]\n",
    "    coefficient = model.coef_[0]\n",
    "    result = f'When predicting the rent for an apartment with {appliance_num} appliances, our model estimates the rent will be ${estimate:,.2f}.'\n",
    "    explanation = f'Each additional appliance adds ${coefficient:,.2f} to the rent.'\n",
    "    return result + '\\n' + explanation"
   ]
  },
  {
   "cell_type": "code",
   "execution_count": 43,
   "metadata": {},
   "outputs": [
    {
     "name": "stdout",
     "output_type": "stream",
     "text": [
      "When predicting the rent for an apartment with 1 appliances, our model estimates the rent will be $3,851.10.\n",
      "Each additional appliance adds $854.86 to the rent.\n"
     ]
    }
   ],
   "source": [
    "# test out new function\n",
    "print(predictions2(1))"
   ]
  },
  {
   "cell_type": "markdown",
   "metadata": {},
   "source": [
    "# Stretch"
   ]
  },
  {
   "cell_type": "markdown",
   "metadata": {},
   "source": [
    "### Split Data"
   ]
  },
  {
   "cell_type": "code",
   "execution_count": 41,
   "metadata": {},
   "outputs": [],
   "source": [
    "# Arrange X features matrix & y target vector for linear regression with 2 features\n",
    "X3 = df[['longitude', 'latitude']]\n",
    "y3 = df['price']"
   ]
  },
  {
   "cell_type": "markdown",
   "metadata": {},
   "source": [
    "### Set Baseline"
   ]
  },
  {
   "cell_type": "code",
   "execution_count": 52,
   "metadata": {},
   "outputs": [
    {
     "name": "stdout",
     "output_type": "stream",
     "text": [
      "Mean rent price: 3579.5609816051456\n",
      "Baseline MAE: 1201.5251847945751\n"
     ]
    }
   ],
   "source": [
    "# Again, the baseline is same as above, writing it up again for reference\n",
    "print('Mean rent price:', y.mean())\n",
    "y3_pred = [y3.mean()] * len(y3)\n",
    "\n",
    "print('Baseline MAE:', mean_absolute_error(y3, y3_pred))"
   ]
  },
  {
   "cell_type": "markdown",
   "metadata": {},
   "source": [
    "### Build Model"
   ]
  },
  {
   "cell_type": "code",
   "execution_count": 53,
   "metadata": {},
   "outputs": [
    {
     "data": {
      "text/plain": [
       "LinearRegression()"
      ]
     },
     "execution_count": 53,
     "metadata": {},
     "output_type": "execute_result"
    }
   ],
   "source": [
    "# instantiate class\n",
    "model3 = LinearRegression()\n",
    "\n",
    "\n",
    "# fit model\n",
    "model3.fit(X3, y3)"
   ]
  },
  {
   "cell_type": "markdown",
   "metadata": {},
   "source": [
    "### Check Metrics"
   ]
  },
  {
   "cell_type": "code",
   "execution_count": 55,
   "metadata": {},
   "outputs": [
    {
     "name": "stdout",
     "output_type": "stream",
     "text": [
      "Training MAE: 1146.5318150026005\n"
     ]
    }
   ],
   "source": [
    "# look at MAE using 2 feature model\n",
    "print('Training MAE:', mean_absolute_error(y2, model2.predict(X2)))"
   ]
  },
  {
   "cell_type": "code",
   "execution_count": null,
   "metadata": {},
   "outputs": [],
   "source": []
  }
 ],
 "metadata": {
  "kernelspec": {
   "display_name": "unit2venv",
   "language": "python",
   "name": "unit2venv"
  },
  "language_info": {
   "codemirror_mode": {
    "name": "ipython",
    "version": 3
   },
   "file_extension": ".py",
   "mimetype": "text/x-python",
   "name": "python",
   "nbconvert_exporter": "python",
   "pygments_lexer": "ipython3",
   "version": "3.8.6"
  }
 },
 "nbformat": 4,
 "nbformat_minor": 1
}

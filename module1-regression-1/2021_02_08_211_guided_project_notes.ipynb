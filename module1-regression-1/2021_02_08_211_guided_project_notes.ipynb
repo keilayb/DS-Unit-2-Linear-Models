{
 "cells": [
  {
   "cell_type": "markdown",
   "metadata": {
    "id": "CPzo2e6aFrjx"
   },
   "source": [
    "# Guided Project 2.1.1."
   ]
  },
  {
   "cell_type": "code",
   "execution_count": 1,
   "metadata": {
    "id": "nUpXCXyzE9h-"
   },
   "outputs": [],
   "source": [
    "import sys\n",
    "\n",
    "# If you're on Colab:\n",
    "if 'google.colab' in sys.modules:\n",
    "    DATA_PATH = 'https://raw.githubusercontent.com/LambdaSchool/DS-Unit-2-Applied-Modeling/master/data/'\n",
    "\n",
    "# If you're working locally:\n",
    "else:\n",
    "    DATA_PATH = '../data/'\n",
    "    \n",
    "# Ignore this Numpy warning when using Plotly Express:\n",
    "# FutureWarning: Method .ptp is deprecated and will be removed in a future version. Use numpy.ptp instead.\n",
    "import warnings\n",
    "warnings.filterwarnings(action='ignore', category=FutureWarning, module='numpy')"
   ]
  },
  {
   "cell_type": "markdown",
   "metadata": {
    "id": "2EVx8r5HLa6f"
   },
   "source": [
    "# I. Wrangle Data"
   ]
  },
  {
   "cell_type": "code",
   "execution_count": 2,
   "metadata": {
    "id": "0HEndwSZLGAg"
   },
   "outputs": [],
   "source": [
    "import pandas as pd\n",
    "import numpy as np\n",
    "\n",
    "def wrangle(filepath):\n",
    "    df = pd.read_csv(filepath,\n",
    "                   dtype={'YEAR_BUILT': int,\n",
    "                          'ZIP_CODE'  : int},\n",
    "                   parse_dates=['SALE_DATE'],\n",
    "                   index_col='SALE_DATE')\n",
    "  \n",
    "  # Drop constant and high-cardinality categorical features\n",
    "    df.drop(columns=['NEIGHBORHOOD', 'BUILDING_CLASS_CATEGORY',\n",
    "                   'ADDRESS', 'APARTMENT_NUMBER'], inplace=True)\n",
    "    return df"
   ]
  },
  {
   "cell_type": "code",
   "execution_count": 3,
   "metadata": {
    "id": "PCttFjQOwYxf"
   },
   "outputs": [],
   "source": [
    "df = wrangle(DATA_PATH + 'condos/tribeca.csv')"
   ]
  },
  {
   "cell_type": "code",
   "execution_count": 4,
   "metadata": {
    "colab": {
     "base_uri": "https://localhost:8080/",
     "height": 233
    },
    "id": "Ir3a5YEsvs7z",
    "outputId": "c6043545-baae-409e-8d21-6d2de986847d"
   },
   "outputs": [
    {
     "data": {
      "text/html": [
       "<div>\n",
       "<style scoped>\n",
       "    .dataframe tbody tr th:only-of-type {\n",
       "        vertical-align: middle;\n",
       "    }\n",
       "\n",
       "    .dataframe tbody tr th {\n",
       "        vertical-align: top;\n",
       "    }\n",
       "\n",
       "    .dataframe thead th {\n",
       "        text-align: right;\n",
       "    }\n",
       "</style>\n",
       "<table border=\"1\" class=\"dataframe\">\n",
       "  <thead>\n",
       "    <tr style=\"text-align: right;\">\n",
       "      <th></th>\n",
       "      <th>ZIP_CODE</th>\n",
       "      <th>GROSS_SQUARE_FEET</th>\n",
       "      <th>YEAR_BUILT</th>\n",
       "      <th>SALE_PRICE</th>\n",
       "    </tr>\n",
       "    <tr>\n",
       "      <th>SALE_DATE</th>\n",
       "      <th></th>\n",
       "      <th></th>\n",
       "      <th></th>\n",
       "      <th></th>\n",
       "    </tr>\n",
       "  </thead>\n",
       "  <tbody>\n",
       "    <tr>\n",
       "      <th>2019-01-03</th>\n",
       "      <td>10013</td>\n",
       "      <td>1840.0</td>\n",
       "      <td>1909</td>\n",
       "      <td>2800000</td>\n",
       "    </tr>\n",
       "    <tr>\n",
       "      <th>2019-01-07</th>\n",
       "      <td>10004</td>\n",
       "      <td>1759.0</td>\n",
       "      <td>0</td>\n",
       "      <td>2650000</td>\n",
       "    </tr>\n",
       "    <tr>\n",
       "      <th>2019-01-09</th>\n",
       "      <td>10004</td>\n",
       "      <td>1190.0</td>\n",
       "      <td>2005</td>\n",
       "      <td>1005000</td>\n",
       "    </tr>\n",
       "    <tr>\n",
       "      <th>2019-01-10</th>\n",
       "      <td>0</td>\n",
       "      <td>1088.0</td>\n",
       "      <td>2006</td>\n",
       "      <td>1678000</td>\n",
       "    </tr>\n",
       "    <tr>\n",
       "      <th>2019-01-11</th>\n",
       "      <td>10280</td>\n",
       "      <td>873.0</td>\n",
       "      <td>0</td>\n",
       "      <td>1380000</td>\n",
       "    </tr>\n",
       "  </tbody>\n",
       "</table>\n",
       "</div>"
      ],
      "text/plain": [
       "            ZIP_CODE  GROSS_SQUARE_FEET  YEAR_BUILT  SALE_PRICE\n",
       "SALE_DATE                                                      \n",
       "2019-01-03     10013             1840.0        1909     2800000\n",
       "2019-01-07     10004             1759.0           0     2650000\n",
       "2019-01-09     10004             1190.0        2005     1005000\n",
       "2019-01-10         0             1088.0        2006     1678000\n",
       "2019-01-11     10280              873.0           0     1380000"
      ]
     },
     "execution_count": 4,
     "metadata": {},
     "output_type": "execute_result"
    }
   ],
   "source": [
    "df.head()"
   ]
  },
  {
   "cell_type": "markdown",
   "metadata": {
    "id": "GgRcyfQMXhzJ"
   },
   "source": [
    "# II. Split Data\n",
    "\n",
    "Split our dataset into a **feature matrix `X`** and a **target vector `y`**."
   ]
  },
  {
   "cell_type": "code",
   "execution_count": 5,
   "metadata": {
    "id": "wTYqSJ8chRGa"
   },
   "outputs": [],
   "source": [
    "X = df[['GROSS_SQUARE_FEET']] # Feature Matrix always needs two dimensions.\n",
    "y = df['SALE_PRICE'] # Target Vector always needs one dimension."
   ]
  },
  {
   "cell_type": "markdown",
   "metadata": {
    "id": "CuwsiXRlYsjG"
   },
   "source": [
    "# III. Establish Baseline\n",
    "\n",
    "If you had a *naïve model* that could only predict one value, how well would you model perform?"
   ]
  },
  {
   "cell_type": "code",
   "execution_count": 6,
   "metadata": {
    "colab": {
     "base_uri": "https://localhost:8080/"
    },
    "id": "1Ek2mN04hTmT",
    "outputId": "c882a831-cb93-4951-91b0-fdf0c2caebca",
    "scrolled": true
   },
   "outputs": [
    {
     "name": "stdout",
     "output_type": "stream",
     "text": [
      "Mean Condo Price: 3928736.3666666667\n",
      "Baseline MAE: 2783380.1977777784\n"
     ]
    }
   ],
   "source": [
    "from sklearn.metrics import mean_absolute_error\n",
    "\n",
    "print('Mean Condo Price:', y.mean())\n",
    "y_pred = [y.mean()] * len(y)\n",
    "\n",
    "print('Baseline MAE:', mean_absolute_error(y, y_pred))"
   ]
  },
  {
   "cell_type": "markdown",
   "metadata": {
    "id": "3bFjzSkUdl21"
   },
   "source": [
    "# IV. Build Model"
   ]
  },
  {
   "cell_type": "code",
   "execution_count": 7,
   "metadata": {
    "colab": {
     "base_uri": "https://localhost:8080/"
    },
    "id": "teYsy_7fhWiG",
    "outputId": "06a87186-0d15-446b-ebf9-8081b05f26b9"
   },
   "outputs": [
    {
     "data": {
      "text/plain": [
       "LinearRegression()"
      ]
     },
     "execution_count": 7,
     "metadata": {},
     "output_type": "execute_result"
    }
   ],
   "source": [
    "# Step 1: Import predictor class\n",
    "from sklearn.linear_model import LinearRegression\n",
    "\n",
    "# Step 2: Instantiate my predictor\n",
    "model = LinearRegression()\n",
    "\n",
    "# Step 3: FIT my predictor on the (training) data\n",
    "model.fit(X, y)"
   ]
  },
  {
   "cell_type": "code",
   "execution_count": 10,
   "metadata": {
    "colab": {
     "base_uri": "https://localhost:8080/",
     "height": 291
    },
    "id": "KNyx6lu7zYDr",
    "outputId": "f972b8b8-b185-4455-f2d0-48340125a801"
   },
   "outputs": [
    {
     "data": {
      "image/png": "[encoded data removed]",
      "text/plain": [
       "<Figure size 432x288 with 1 Axes>"
      ]
     },
     "metadata": {
      "needs_background": "light"
     },
     "output_type": "display_data"
    }
   ],
   "source": [
    "import matplotlib.pyplot as plt\n",
    "plt.scatter(df['GROSS_SQUARE_FEET'], df['SALE_PRICE'])\n",
    "plt.plot(df['GROSS_SQUARE_FEET'], y_pred, label='Baseline Model', color='grey')\n",
    "plt.plot(X, model.predict(X), label='Linear Model', color='orange')\n",
    "plt.xlabel('GROSS_SQUARE_FEET')\n",
    "plt.ylabel('SALE_PRICE')\n",
    "plt.legend();"
   ]
  },
  {
   "cell_type": "markdown",
   "metadata": {
    "id": "Lo3CypnUfIwc"
   },
   "source": [
    "# V. Check Metrics"
   ]
  },
  {
   "cell_type": "code",
   "execution_count": 12,
   "metadata": {
    "colab": {
     "base_uri": "https://localhost:8080/"
    },
    "id": "AGk2bhYHhYEX",
    "outputId": "37e73ff5-c691-4c7e-fef9-4c052faff833"
   },
   "outputs": [
    {
     "name": "stdout",
     "output_type": "stream",
     "text": [
      "Training MAE: 1176817.9930150746\n"
     ]
    }
   ],
   "source": [
    "print('Training MAE:', mean_absolute_error(y, model.predict(X)))"
   ]
  },
  {
   "cell_type": "markdown",
   "metadata": {
    "id": "jGYUL1mufdS-"
   },
   "source": [
    "# VI. Communicate Results"
   ]
  },
  {
   "cell_type": "code",
   "execution_count": null,
   "metadata": {
    "id": "Ka_bSYgDhZSl"
   },
   "outputs": [],
   "source": []
  }
 ],
 "metadata": {
  "colab": {
   "name": "2021-02-08_211_guided-project-notes.ipynb",
   "provenance": []
  },
  "kernelspec": {
   "display_name": "unit2venv",
   "language": "python",
   "name": "unit2venv"
  },
  "language_info": {
   "codemirror_mode": {
    "name": "ipython",
    "version": 3
   },
   "file_extension": ".py",
   "mimetype": "text/x-python",
   "name": "python",
   "nbconvert_exporter": "python",
   "pygments_lexer": "ipython3",
   "version": "3.8.6"
  }
 },
 "nbformat": 4,
 "nbformat_minor": 1
}

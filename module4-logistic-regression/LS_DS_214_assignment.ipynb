{
 "cells": [
  {
   "cell_type": "markdown",
   "metadata": {},
   "source": [
    "Lambda School Data Science\n",
    "\n",
    "*Unit 2, Sprint 1, Module 4*\n",
    "\n",
    "---"
   ]
  },
  {
   "cell_type": "markdown",
   "metadata": {
    "colab_type": "text",
    "id": "7IXUfiQ2UKj6"
   },
   "source": [
    "# Logistic Regression\n",
    "\n",
    "\n",
    "## Assignment 🌯\n",
    "\n",
    "You'll use a [**dataset of 400+ burrito reviews**](https://srcole.github.io/100burritos/). How accurately can you predict whether a burrito is rated 'Great'?\n",
    "\n",
    "> We have developed a 10-dimensional system for rating the burritos in San Diego. ... Generate models for what makes a burrito great and investigate correlations in its dimensions.\n",
    "\n",
    "- [x] Do train/validate/test split. Train on reviews from 2016 & earlier. Validate on 2017. Test on 2018 & later.\n",
    "- [x] Begin with baselines for classification.\n",
    "- [x] Use scikit-learn for logistic regression.\n",
    "- [ ] Get your model's validation accuracy. (Multiple times if you try multiple iterations.)\n",
    "- [ ] Get your model's test accuracy. (One time, at the end.)\n",
    "- [ ] Commit your notebook to your fork of the GitHub repo.\n",
    "\n",
    "\n",
    "## Stretch Goals\n",
    "\n",
    "- [ ] Add your own stretch goal(s) !\n",
    "- [x] Make exploratory visualizations.\n",
    "- [x] Do one-hot encoding.\n",
    "- [ ] Do [feature scaling](https://scikit-learn.org/stable/modules/preprocessing.html).\n",
    "- [ ] Get and plot your coefficients.\n",
    "- [ ] Try [scikit-learn pipelines](https://scikit-learn.org/stable/modules/compose.html)."
   ]
  },
  {
   "cell_type": "code",
   "execution_count": 1,
   "metadata": {
    "colab": {},
    "colab_type": "code",
    "id": "o9eSnDYhUGD7"
   },
   "outputs": [],
   "source": [
    "%%capture\n",
    "import sys\n",
    "\n",
    "# If you're on Colab:\n",
    "if 'google.colab' in sys.modules:\n",
    "    DATA_PATH = 'https://raw.githubusercontent.com/LambdaSchool/DS-Unit-2-Linear-Models/master/data/'\n",
    "    !pip install category_encoders==2.*\n",
    "\n",
    "# If you're working locally:\n",
    "else:\n",
    "    DATA_PATH = '/Users/keila/Documents/Lambda/Units_Git/DS-Unit-2-Linear-Models/data/'"
   ]
  },
  {
   "cell_type": "code",
   "execution_count": 2,
   "metadata": {},
   "outputs": [],
   "source": [
    "# Load data downloaded from https://srcole.github.io/100burritos/\n",
    "import pandas as pd\n",
    "df = pd.read_csv(DATA_PATH+'burritos/burritos.csv')"
   ]
  },
  {
   "cell_type": "code",
   "execution_count": 3,
   "metadata": {},
   "outputs": [],
   "source": [
    "# Derive binary classification target:\n",
    "# We define a 'Great' burrito as having an\n",
    "# overall rating of 4 or higher, on a 5 point scale.\n",
    "# Drop unrated burritos.\n",
    "df = df.dropna(subset=['overall'])\n",
    "df['Great'] = df['overall'] >= 4"
   ]
  },
  {
   "cell_type": "code",
   "execution_count": 4,
   "metadata": {},
   "outputs": [],
   "source": [
    "# Clean/combine the Burrito categories\n",
    "df['Burrito'] = df['Burrito'].str.lower()\n",
    "\n",
    "california = df['Burrito'].str.contains('california')\n",
    "asada = df['Burrito'].str.contains('asada')\n",
    "surf = df['Burrito'].str.contains('surf')\n",
    "carnitas = df['Burrito'].str.contains('carnitas')\n",
    "\n",
    "df.loc[california, 'Burrito'] = 'California'\n",
    "df.loc[asada, 'Burrito'] = 'Asada'\n",
    "df.loc[surf, 'Burrito'] = 'Surf & Turf'\n",
    "df.loc[carnitas, 'Burrito'] = 'Carnitas'\n",
    "df.loc[~california & ~asada & ~surf & ~carnitas, 'Burrito'] = 'Other'"
   ]
  },
  {
   "cell_type": "code",
   "execution_count": 5,
   "metadata": {},
   "outputs": [],
   "source": [
    "# Drop some high cardinality categoricals\n",
    "df = df.drop(columns=['Notes', 'Location', 'Reviewer', 'Address', 'URL', 'Neighborhood'])"
   ]
  },
  {
   "cell_type": "code",
   "execution_count": 6,
   "metadata": {},
   "outputs": [],
   "source": [
    "# Drop some columns to prevent \"leakage\"\n",
    "df = df.drop(columns=['Rec', 'overall'])"
   ]
  },
  {
   "cell_type": "code",
   "execution_count": 7,
   "metadata": {},
   "outputs": [],
   "source": [
    "from category_encoders import OneHotEncoder\n",
    "from sklearn.feature_selection import SelectKBest, f_regression\n",
    "from sklearn.impute import SimpleImputer\n",
    "from sklearn.linear_model import LogisticRegression, LogisticRegressionCV\n",
    "from sklearn.pipeline import make_pipeline\n",
    "from sklearn.preprocessing import StandardScaler\n",
    "from sklearn.model_selection import train_test_split\n",
    "import numpy as np\n",
    "import pandas as pd\n",
    "\n",
    "import matplotlib.pyplot as plt"
   ]
  },
  {
   "cell_type": "markdown",
   "metadata": {},
   "source": [
    "## Wrangle Data"
   ]
  },
  {
   "cell_type": "code",
   "execution_count": 8,
   "metadata": {},
   "outputs": [],
   "source": [
    "def wrangle(filepath):\n",
    "    # Load data downloaded from https://srcole.github.io/100burritos/\n",
    "    df = pd.read_csv(filepath, \n",
    "                     parse_dates = ['Date'],\n",
    "                     index_col = 'Date')\n",
    "    \n",
    "    # Derive binary classification target:\n",
    "    # We define a 'Great' burrito as having an\n",
    "    # overall rating of 4 or higher, on a 5 point scale.\n",
    "    # Drop unrated burritos.\n",
    "    # Make binary classifications 0 and 1\n",
    "    df = df.dropna(subset=['overall'])\n",
    "    df['Great'] = df['overall'] >= 4\n",
    "    df.loc[df['Great'] == True, 'Great'] = 1\n",
    "    df.loc[df['Great'] == False, 'Great'] = 0\n",
    "\n",
    "    # Clean/combine the Burrito categories\n",
    "    df['Burrito'] = df['Burrito'].str.lower()\n",
    "\n",
    "    california = df['Burrito'].str.contains('california')\n",
    "    asada = df['Burrito'].str.contains('asada')\n",
    "    surf = df['Burrito'].str.contains('surf')\n",
    "    carnitas = df['Burrito'].str.contains('carnitas')\n",
    "\n",
    "    df.loc[california, 'Burrito'] = 'California'\n",
    "    df.loc[asada, 'Burrito'] = 'Asada'\n",
    "    df.loc[surf, 'Burrito'] = 'Surf & Turf'\n",
    "    df.loc[carnitas, 'Burrito'] = 'Carnitas'\n",
    "    df.loc[~california & ~asada & ~surf & ~carnitas, 'Burrito'] = 'Other'\n",
    "    \n",
    "    # Drop some high cardinality categoricals\n",
    "    df = df.drop(columns=['Notes', 'Location', 'Reviewer', 'Address', 'URL', 'Neighborhood'])\n",
    "    \n",
    "    # Drop some columns to prevent \"leakage\"\n",
    "    df = df.drop(columns=['Rec', 'overall'])\n",
    "    \n",
    "    # Replace all nan with 0\n",
    "    df.replace(np.nan, 0, inplace = True)\n",
    "    \n",
    "    return df\n",
    "\n",
    "df = wrangle(DATA_PATH+'burritos/burritos.csv')"
   ]
  },
  {
   "cell_type": "code",
   "execution_count": 9,
   "metadata": {},
   "outputs": [],
   "source": [
    "# Write function that will replace X's in columns with 1\n",
    "\n",
    "def replace_xs(columns):\n",
    "    for col in columns:\n",
    "        print('Currently working on:', col)\n",
    "        df.loc[df[col] != 0, col] = 1\n",
    "        df[col] = df[col].astype(int)"
   ]
  },
  {
   "cell_type": "code",
   "execution_count": 10,
   "metadata": {
    "scrolled": true
   },
   "outputs": [
    {
     "data": {
      "text/plain": [
       "Index(['Burrito', 'Chips', 'Unreliable', 'NonSD', 'Beef', 'Pico', 'Guac',\n",
       "       'Cheese', 'Fries', 'Sour cream', 'Pork', 'Chicken', 'Shrimp', 'Fish',\n",
       "       'Rice', 'Beans', 'Lettuce', 'Tomato', 'Bell peper', 'Carrots',\n",
       "       'Cabbage', 'Sauce', 'Salsa.1', 'Cilantro', 'Onion', 'Taquito',\n",
       "       'Pineapple', 'Ham', 'Chile relleno', 'Nopales', 'Lobster', 'Egg',\n",
       "       'Mushroom', 'Bacon', 'Sushi', 'Avocado', 'Corn', 'Zucchini'],\n",
       "      dtype='object')"
      ]
     },
     "execution_count": 10,
     "metadata": {},
     "output_type": "execute_result"
    }
   ],
   "source": [
    "df.select_dtypes('object').columns"
   ]
  },
  {
   "cell_type": "code",
   "execution_count": 11,
   "metadata": {
    "scrolled": false
   },
   "outputs": [
    {
     "name": "stdout",
     "output_type": "stream",
     "text": [
      "Currently working on: Chips\n",
      "Currently working on: Unreliable\n",
      "Currently working on: NonSD\n",
      "Currently working on: Beef\n",
      "Currently working on: Pico\n",
      "Currently working on: Guac\n",
      "Currently working on: Cheese\n",
      "Currently working on: Fries\n",
      "Currently working on: Sour cream\n",
      "Currently working on: Pork\n",
      "Currently working on: Chicken\n",
      "Currently working on: Shrimp\n",
      "Currently working on: Fish\n",
      "Currently working on: Rice\n",
      "Currently working on: Beans\n",
      "Currently working on: Lettuce\n",
      "Currently working on: Tomato\n",
      "Currently working on: Bell peper\n",
      "Currently working on: Carrots\n",
      "Currently working on: Cabbage\n",
      "Currently working on: Sauce\n",
      "Currently working on: Salsa.1\n",
      "Currently working on: Cilantro\n",
      "Currently working on: Onion\n",
      "Currently working on: Taquito\n",
      "Currently working on: Pineapple\n",
      "Currently working on: Ham\n",
      "Currently working on: Chile relleno\n",
      "Currently working on: Nopales\n",
      "Currently working on: Lobster\n",
      "Currently working on: Egg\n",
      "Currently working on: Mushroom\n",
      "Currently working on: Bacon\n",
      "Currently working on: Sushi\n",
      "Currently working on: Avocado\n",
      "Currently working on: Corn\n",
      "Currently working on: Zucchini\n"
     ]
    }
   ],
   "source": [
    "# Pick out names of columns to replace X's in.\n",
    "# Won't use Burrito, because it is already in the format we want\n",
    "columns_to_change = df.select_dtypes('object').columns[1:]\n",
    "\n",
    "# Apply function to columns\n",
    "replace_xs(columns_to_change)"
   ]
  },
  {
   "cell_type": "code",
   "execution_count": 12,
   "metadata": {
    "scrolled": false
   },
   "outputs": [
    {
     "data": {
      "text/html": [
       "<div>\n",
       "<style scoped>\n",
       "    .dataframe tbody tr th:only-of-type {\n",
       "        vertical-align: middle;\n",
       "    }\n",
       "\n",
       "    .dataframe tbody tr th {\n",
       "        vertical-align: top;\n",
       "    }\n",
       "\n",
       "    .dataframe thead th {\n",
       "        text-align: right;\n",
       "    }\n",
       "</style>\n",
       "<table border=\"1\" class=\"dataframe\">\n",
       "  <thead>\n",
       "    <tr style=\"text-align: right;\">\n",
       "      <th></th>\n",
       "      <th>Burrito</th>\n",
       "      <th>Yelp</th>\n",
       "      <th>Google</th>\n",
       "      <th>Chips</th>\n",
       "      <th>Cost</th>\n",
       "      <th>Hunger</th>\n",
       "      <th>Mass (g)</th>\n",
       "      <th>Density (g/mL)</th>\n",
       "      <th>Length</th>\n",
       "      <th>Circum</th>\n",
       "      <th>...</th>\n",
       "      <th>Lobster</th>\n",
       "      <th>Queso</th>\n",
       "      <th>Egg</th>\n",
       "      <th>Mushroom</th>\n",
       "      <th>Bacon</th>\n",
       "      <th>Sushi</th>\n",
       "      <th>Avocado</th>\n",
       "      <th>Corn</th>\n",
       "      <th>Zucchini</th>\n",
       "      <th>Great</th>\n",
       "    </tr>\n",
       "    <tr>\n",
       "      <th>Date</th>\n",
       "      <th></th>\n",
       "      <th></th>\n",
       "      <th></th>\n",
       "      <th></th>\n",
       "      <th></th>\n",
       "      <th></th>\n",
       "      <th></th>\n",
       "      <th></th>\n",
       "      <th></th>\n",
       "      <th></th>\n",
       "      <th></th>\n",
       "      <th></th>\n",
       "      <th></th>\n",
       "      <th></th>\n",
       "      <th></th>\n",
       "      <th></th>\n",
       "      <th></th>\n",
       "      <th></th>\n",
       "      <th></th>\n",
       "      <th></th>\n",
       "      <th></th>\n",
       "    </tr>\n",
       "  </thead>\n",
       "  <tbody>\n",
       "    <tr>\n",
       "      <th>2016-01-18</th>\n",
       "      <td>California</td>\n",
       "      <td>3.5</td>\n",
       "      <td>4.2</td>\n",
       "      <td>0</td>\n",
       "      <td>6.49</td>\n",
       "      <td>3.0</td>\n",
       "      <td>0.0</td>\n",
       "      <td>0.0</td>\n",
       "      <td>0.0</td>\n",
       "      <td>0.0</td>\n",
       "      <td>...</td>\n",
       "      <td>0</td>\n",
       "      <td>0.0</td>\n",
       "      <td>0</td>\n",
       "      <td>0</td>\n",
       "      <td>0</td>\n",
       "      <td>0</td>\n",
       "      <td>0</td>\n",
       "      <td>0</td>\n",
       "      <td>0</td>\n",
       "      <td>0</td>\n",
       "    </tr>\n",
       "    <tr>\n",
       "      <th>2016-01-24</th>\n",
       "      <td>California</td>\n",
       "      <td>3.5</td>\n",
       "      <td>3.3</td>\n",
       "      <td>0</td>\n",
       "      <td>5.45</td>\n",
       "      <td>3.5</td>\n",
       "      <td>0.0</td>\n",
       "      <td>0.0</td>\n",
       "      <td>0.0</td>\n",
       "      <td>0.0</td>\n",
       "      <td>...</td>\n",
       "      <td>0</td>\n",
       "      <td>0.0</td>\n",
       "      <td>0</td>\n",
       "      <td>0</td>\n",
       "      <td>0</td>\n",
       "      <td>0</td>\n",
       "      <td>0</td>\n",
       "      <td>0</td>\n",
       "      <td>0</td>\n",
       "      <td>0</td>\n",
       "    </tr>\n",
       "    <tr>\n",
       "      <th>2016-01-24</th>\n",
       "      <td>Carnitas</td>\n",
       "      <td>0.0</td>\n",
       "      <td>0.0</td>\n",
       "      <td>0</td>\n",
       "      <td>4.85</td>\n",
       "      <td>1.5</td>\n",
       "      <td>0.0</td>\n",
       "      <td>0.0</td>\n",
       "      <td>0.0</td>\n",
       "      <td>0.0</td>\n",
       "      <td>...</td>\n",
       "      <td>0</td>\n",
       "      <td>0.0</td>\n",
       "      <td>0</td>\n",
       "      <td>0</td>\n",
       "      <td>0</td>\n",
       "      <td>0</td>\n",
       "      <td>0</td>\n",
       "      <td>0</td>\n",
       "      <td>0</td>\n",
       "      <td>0</td>\n",
       "    </tr>\n",
       "    <tr>\n",
       "      <th>2016-01-24</th>\n",
       "      <td>Asada</td>\n",
       "      <td>0.0</td>\n",
       "      <td>0.0</td>\n",
       "      <td>0</td>\n",
       "      <td>5.25</td>\n",
       "      <td>2.0</td>\n",
       "      <td>0.0</td>\n",
       "      <td>0.0</td>\n",
       "      <td>0.0</td>\n",
       "      <td>0.0</td>\n",
       "      <td>...</td>\n",
       "      <td>0</td>\n",
       "      <td>0.0</td>\n",
       "      <td>0</td>\n",
       "      <td>0</td>\n",
       "      <td>0</td>\n",
       "      <td>0</td>\n",
       "      <td>0</td>\n",
       "      <td>0</td>\n",
       "      <td>0</td>\n",
       "      <td>0</td>\n",
       "    </tr>\n",
       "    <tr>\n",
       "      <th>2016-01-27</th>\n",
       "      <td>California</td>\n",
       "      <td>4.0</td>\n",
       "      <td>3.8</td>\n",
       "      <td>1</td>\n",
       "      <td>6.59</td>\n",
       "      <td>4.0</td>\n",
       "      <td>0.0</td>\n",
       "      <td>0.0</td>\n",
       "      <td>0.0</td>\n",
       "      <td>0.0</td>\n",
       "      <td>...</td>\n",
       "      <td>0</td>\n",
       "      <td>0.0</td>\n",
       "      <td>0</td>\n",
       "      <td>0</td>\n",
       "      <td>0</td>\n",
       "      <td>0</td>\n",
       "      <td>0</td>\n",
       "      <td>0</td>\n",
       "      <td>0</td>\n",
       "      <td>1</td>\n",
       "    </tr>\n",
       "  </tbody>\n",
       "</table>\n",
       "<p>5 rows × 58 columns</p>\n",
       "</div>"
      ],
      "text/plain": [
       "               Burrito  Yelp  Google  Chips  Cost  Hunger  Mass (g)  \\\n",
       "Date                                                                  \n",
       "2016-01-18  California   3.5     4.2      0  6.49     3.0       0.0   \n",
       "2016-01-24  California   3.5     3.3      0  5.45     3.5       0.0   \n",
       "2016-01-24    Carnitas   0.0     0.0      0  4.85     1.5       0.0   \n",
       "2016-01-24       Asada   0.0     0.0      0  5.25     2.0       0.0   \n",
       "2016-01-27  California   4.0     3.8      1  6.59     4.0       0.0   \n",
       "\n",
       "            Density (g/mL)  Length  Circum  ...  Lobster  Queso  Egg  \\\n",
       "Date                                        ...                        \n",
       "2016-01-18             0.0     0.0     0.0  ...        0    0.0    0   \n",
       "2016-01-24             0.0     0.0     0.0  ...        0    0.0    0   \n",
       "2016-01-24             0.0     0.0     0.0  ...        0    0.0    0   \n",
       "2016-01-24             0.0     0.0     0.0  ...        0    0.0    0   \n",
       "2016-01-27             0.0     0.0     0.0  ...        0    0.0    0   \n",
       "\n",
       "            Mushroom  Bacon  Sushi  Avocado  Corn  Zucchini  Great  \n",
       "Date                                                                \n",
       "2016-01-18         0      0      0        0     0         0      0  \n",
       "2016-01-24         0      0      0        0     0         0      0  \n",
       "2016-01-24         0      0      0        0     0         0      0  \n",
       "2016-01-24         0      0      0        0     0         0      0  \n",
       "2016-01-27         0      0      0        0     0         0      1  \n",
       "\n",
       "[5 rows x 58 columns]"
      ]
     },
     "execution_count": 12,
     "metadata": {},
     "output_type": "execute_result"
    }
   ],
   "source": [
    "# Take a look at final df\n",
    "df.head()"
   ]
  },
  {
   "cell_type": "code",
   "execution_count": 13,
   "metadata": {
    "scrolled": false
   },
   "outputs": [
    {
     "name": "stdout",
     "output_type": "stream",
     "text": [
      "<class 'pandas.core.frame.DataFrame'>\n",
      "DatetimeIndex: 421 entries, 2016-01-18 to 2019-08-27\n",
      "Data columns (total 58 columns):\n",
      " #   Column          Non-Null Count  Dtype  \n",
      "---  ------          --------------  -----  \n",
      " 0   Burrito         421 non-null    object \n",
      " 1   Yelp            421 non-null    float64\n",
      " 2   Google          421 non-null    float64\n",
      " 3   Chips           421 non-null    int64  \n",
      " 4   Cost            421 non-null    float64\n",
      " 5   Hunger          421 non-null    float64\n",
      " 6   Mass (g)        421 non-null    float64\n",
      " 7   Density (g/mL)  421 non-null    float64\n",
      " 8   Length          421 non-null    float64\n",
      " 9   Circum          421 non-null    float64\n",
      " 10  Volume          421 non-null    float64\n",
      " 11  Tortilla        421 non-null    float64\n",
      " 12  Temp            421 non-null    float64\n",
      " 13  Meat            421 non-null    float64\n",
      " 14  Fillings        421 non-null    float64\n",
      " 15  Meat:filling    421 non-null    float64\n",
      " 16  Uniformity      421 non-null    float64\n",
      " 17  Salsa           421 non-null    float64\n",
      " 18  Synergy         421 non-null    float64\n",
      " 19  Wrap            421 non-null    float64\n",
      " 20  Unreliable      421 non-null    int64  \n",
      " 21  NonSD           421 non-null    int64  \n",
      " 22  Beef            421 non-null    int64  \n",
      " 23  Pico            421 non-null    int64  \n",
      " 24  Guac            421 non-null    int64  \n",
      " 25  Cheese          421 non-null    int64  \n",
      " 26  Fries           421 non-null    int64  \n",
      " 27  Sour cream      421 non-null    int64  \n",
      " 28  Pork            421 non-null    int64  \n",
      " 29  Chicken         421 non-null    int64  \n",
      " 30  Shrimp          421 non-null    int64  \n",
      " 31  Fish            421 non-null    int64  \n",
      " 32  Rice            421 non-null    int64  \n",
      " 33  Beans           421 non-null    int64  \n",
      " 34  Lettuce         421 non-null    int64  \n",
      " 35  Tomato          421 non-null    int64  \n",
      " 36  Bell peper      421 non-null    int64  \n",
      " 37  Carrots         421 non-null    int64  \n",
      " 38  Cabbage         421 non-null    int64  \n",
      " 39  Sauce           421 non-null    int64  \n",
      " 40  Salsa.1         421 non-null    int64  \n",
      " 41  Cilantro        421 non-null    int64  \n",
      " 42  Onion           421 non-null    int64  \n",
      " 43  Taquito         421 non-null    int64  \n",
      " 44  Pineapple       421 non-null    int64  \n",
      " 45  Ham             421 non-null    int64  \n",
      " 46  Chile relleno   421 non-null    int64  \n",
      " 47  Nopales         421 non-null    int64  \n",
      " 48  Lobster         421 non-null    int64  \n",
      " 49  Queso           421 non-null    float64\n",
      " 50  Egg             421 non-null    int64  \n",
      " 51  Mushroom        421 non-null    int64  \n",
      " 52  Bacon           421 non-null    int64  \n",
      " 53  Sushi           421 non-null    int64  \n",
      " 54  Avocado         421 non-null    int64  \n",
      " 55  Corn            421 non-null    int64  \n",
      " 56  Zucchini        421 non-null    int64  \n",
      " 57  Great           421 non-null    int64  \n",
      "dtypes: float64(19), int64(38), object(1)\n",
      "memory usage: 194.1+ KB\n"
     ]
    }
   ],
   "source": [
    "df.info()"
   ]
  },
  {
   "cell_type": "markdown",
   "metadata": {},
   "source": [
    "Code I used to come up with `replace_xs()` function."
   ]
  },
  {
   "cell_type": "code",
   "execution_count": 14,
   "metadata": {},
   "outputs": [],
   "source": [
    "#df.select_dtypes('object').info()"
   ]
  },
  {
   "cell_type": "code",
   "execution_count": 15,
   "metadata": {
    "scrolled": false
   },
   "outputs": [],
   "source": [
    "# df['Burrito'].unique()"
   ]
  },
  {
   "cell_type": "markdown",
   "metadata": {},
   "source": [
    "Some visualizations with some of the features that will be included in feature matrix."
   ]
  },
  {
   "cell_type": "code",
   "execution_count": 16,
   "metadata": {},
   "outputs": [
    {
     "data": {
      "image/png": "[encoded data removed]",
      "text/plain": [
       "<Figure size 432x288 with 1 Axes>"
      ]
     },
     "metadata": {
      "needs_background": "light"
     },
     "output_type": "display_data"
    }
   ],
   "source": [
    "plt.scatter(df['Hunger'], df['Great'])\n",
    "plt.xlabel('Level of Hunger on 5 point scale')\n",
    "plt.ylabel('Whether Burrito is Great or Not')\n",
    "plt.title('Hunger and Greatness of Burrito');"
   ]
  },
  {
   "cell_type": "markdown",
   "metadata": {},
   "source": [
    "Based on the visualization above, linear regression will not be very useful. Logistic regression will be better, even more so, because I am tackling a classification problem."
   ]
  },
  {
   "cell_type": "markdown",
   "metadata": {},
   "source": [
    "## Split Data"
   ]
  },
  {
   "cell_type": "code",
   "execution_count": 17,
   "metadata": {},
   "outputs": [],
   "source": [
    "# Split data into feature matrix and target vector\n",
    "target = 'Great'\n",
    "# dims_10 = ['Volume', 'Tortilla', 'Temp', 'Meat', 'Fillings', \n",
    "#            'Meat:filling', 'Uniformity', 'Salsa', 'Synergy', 'Wrap']\n",
    "y = df[target]\n",
    "X = df.drop(columns = target)"
   ]
  },
  {
   "cell_type": "code",
   "execution_count": 18,
   "metadata": {},
   "outputs": [],
   "source": [
    "# Split the data into train, validate, and test sets\n",
    "train_cutoff = '2017-01-01'\n",
    "test_cutoff = '2017-12-31'\n",
    "train_mask = X.index < train_cutoff\n",
    "test_mask = X.index > test_cutoff\n",
    "validate_mask = (X.index >= train_cutoff) & (X.index <= test_cutoff)\n",
    "\n",
    "X_train, y_train = X.loc[train_mask], y.loc[train_mask]\n",
    "X_val, y_val = X.loc[validate_mask], y.loc[validate_mask]\n",
    "X_test, y_test = X.loc[test_mask], y.loc[test_mask]"
   ]
  },
  {
   "cell_type": "markdown",
   "metadata": {},
   "source": [
    "## Establish Baseline"
   ]
  },
  {
   "cell_type": "code",
   "execution_count": 19,
   "metadata": {},
   "outputs": [
    {
     "name": "stdout",
     "output_type": "stream",
     "text": [
      "Baseline Accuracy Score: 0.5906040268456376\n"
     ]
    }
   ],
   "source": [
    "print('Baseline Accuracy Score:', y_train.value_counts(normalize = True).max())"
   ]
  },
  {
   "cell_type": "markdown",
   "metadata": {},
   "source": [
    "## Build Model"
   ]
  },
  {
   "cell_type": "code",
   "execution_count": 20,
   "metadata": {},
   "outputs": [
    {
     "name": "stderr",
     "output_type": "stream",
     "text": [
      "/Users/keila/Documents/Lambda/Units_Git/DS-Unit-2-Linear-Models/unit2venv/lib/python3.8/site-packages/category_encoders/utils.py:21: FutureWarning: is_categorical is deprecated and will be removed in a future version.  Use is_categorical_dtype instead\n",
      "  elif pd.api.types.is_categorical(cols):\n"
     ]
    },
    {
     "data": {
      "text/plain": [
       "Pipeline(steps=[('onehotencoder',\n",
       "                 OneHotEncoder(cols=['Burrito'], use_cat_names=True)),\n",
       "                ('simpleimputer', SimpleImputer()),\n",
       "                ('standardscaler', StandardScaler()),\n",
       "                ('logisticregression',\n",
       "                 LogisticRegression(C=0.6, max_iter=500))])"
      ]
     },
     "execution_count": 20,
     "metadata": {},
     "output_type": "execute_result"
    }
   ],
   "source": [
    "model_lr = make_pipeline(\n",
    "    OneHotEncoder(use_cat_names = True), \n",
    "    SimpleImputer(),\n",
    "    StandardScaler(),\n",
    "    LogisticRegression(C = 0.6, max_iter = 500))\n",
    "\n",
    "model_lr.fit(X_train, y_train)"
   ]
  },
  {
   "cell_type": "markdown",
   "metadata": {},
   "source": [
    "## Check Metrics"
   ]
  },
  {
   "cell_type": "code",
   "execution_count": 21,
   "metadata": {},
   "outputs": [
    {
     "name": "stdout",
     "output_type": "stream",
     "text": [
      "Training Accuracy: 0.9194630872483222\n",
      "Validation Accuracy: 0.7764705882352941\n",
      "Test Accuracy: 0.7631578947368421\n"
     ]
    }
   ],
   "source": [
    "print('Training Accuracy:', model_lr.score(X_train, y_train))\n",
    "print('Validation Accuracy:', model_lr.score(X_val, y_val))\n",
    "print('Test Accuracy:', model_lr.score(X_test, y_test))"
   ]
  },
  {
   "cell_type": "markdown",
   "metadata": {},
   "source": [
    "## Communicate Results"
   ]
  },
  {
   "cell_type": "code",
   "execution_count": 22,
   "metadata": {
    "scrolled": true
   },
   "outputs": [
    {
     "data": {
      "image/png": "[encoded data removed]",
      "text/plain": [
       "<Figure size 432x288 with 1 Axes>"
      ]
     },
     "metadata": {
      "needs_background": "light"
     },
     "output_type": "display_data"
    }
   ],
   "source": [
    "feature_names = model_lr.named_steps['onehotencoder'].get_feature_names()\n",
    "coefficients = model_lr.named_steps['logisticregression'].coef_[0]\n",
    "feature_importances = pd.Series(coefficients, index = feature_names).sort_values(key = abs)\n",
    "feature_importances.tail(10).plot(kind = 'barh', title = 'Logistic Coefficients');"
   ]
  },
  {
   "cell_type": "code",
   "execution_count": null,
   "metadata": {},
   "outputs": [],
   "source": []
  }
 ],
 "metadata": {
  "kernelspec": {
   "display_name": "unit2venv",
   "language": "python",
   "name": "unit2venv"
  },
  "language_info": {
   "codemirror_mode": {
    "name": "ipython",
    "version": 3
   },
   "file_extension": ".py",
   "mimetype": "text/x-python",
   "name": "python",
   "nbconvert_exporter": "python",
   "pygments_lexer": "ipython3",
   "version": "3.8.6"
  }
 },
 "nbformat": 4,
 "nbformat_minor": 1
}

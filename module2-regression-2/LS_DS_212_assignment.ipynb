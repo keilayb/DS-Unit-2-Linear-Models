{
 "cells": [
  {
   "cell_type": "markdown",
   "metadata": {},
   "source": [
    "Lambda School Data Science\n",
    "\n",
    "*Unit 2, Sprint 1, Module 2*\n",
    "\n",
    "---"
   ]
  },
  {
   "cell_type": "markdown",
   "metadata": {
    "colab_type": "text",
    "id": "7IXUfiQ2UKj6"
   },
   "source": [
    "# Regression 2\n",
    "\n",
    "## Assignment\n",
    "\n",
    "You'll continue to **predict how much it costs to rent an apartment in NYC,** using the dataset from renthop.com.\n",
    "\n",
    "- [x] Do train/test split. Use data from April & May 2016 to train. Use data from June 2016 to test.\n",
    "- [x] Engineer at least two new features. (See below for explanation & ideas.)\n",
    "- [x] Fit a linear regression model with at least two features.\n",
    "- [x] Get the model's coefficients and intercept.\n",
    "- [x] Get regression metrics RMSE, MAE, and $R^2$, for both the train and test data.\n",
    "- [x] What's the best test MAE you can get? Share your score and features used with your cohort on Slack!\n",
    "- [x] As always, commit your notebook to your fork of the GitHub repo.\n",
    "\n",
    "\n",
    "#### [Feature Engineering](https://en.wikipedia.org/wiki/Feature_engineering)\n",
    "\n",
    "> \"Some machine learning projects succeed and some fail. What makes the difference? Easily the most important factor is the features used.\" — Pedro Domingos, [\"A Few Useful Things to Know about Machine Learning\"](https://homes.cs.washington.edu/~pedrod/papers/cacm12.pdf)\n",
    "\n",
    "> \"Coming up with features is difficult, time-consuming, requires expert knowledge. 'Applied machine learning' is basically feature engineering.\" — Andrew Ng, [Machine Learning and AI via Brain simulations](https://forum.stanford.edu/events/2011/2011slides/plenary/2011plenaryNg.pdf) \n",
    "\n",
    "> Feature engineering is the process of using domain knowledge of the data to create features that make machine learning algorithms work. \n",
    "\n",
    "#### Feature Ideas\n",
    "- Does the apartment have a description?\n",
    "- How long is the description?\n",
    "- How many total perks does each apartment have?\n",
    "- Are cats _or_ dogs allowed?\n",
    "- Are cats _and_ dogs allowed?\n",
    "- Total number of rooms (beds + baths)\n",
    "- Ratio of beds to baths\n",
    "- What's the neighborhood, based on address or latitude & longitude?\n",
    "\n",
    "## Stretch Goals\n",
    "- [ ] If you want more math, skim [_An Introduction to Statistical Learning_](http://faculty.marshall.usc.edu/gareth-james/ISL/ISLR%20Seventh%20Printing.pdf),  Chapter 3.1, Simple Linear Regression, & Chapter 3.2, Multiple Linear Regression\n",
    "- [ ] If you want more introduction, watch [Brandon Foltz, Statistics 101: Simple Linear Regression](https://www.youtube.com/watch?v=ZkjP5RJLQF4)\n",
    "(20 minutes, over 1 million views)\n",
    "- [x] Plot best fit plane for your linear regression with 2 features you created."
   ]
  },
  {
   "cell_type": "code",
   "execution_count": 1,
   "metadata": {
    "colab": {},
    "colab_type": "code",
    "id": "o9eSnDYhUGD7"
   },
   "outputs": [],
   "source": [
    "%%capture\n",
    "import sys\n",
    "\n",
    "# If you're on Colab:\n",
    "if 'google.colab' in sys.modules:\n",
    "    DATA_PATH = 'https://raw.githubusercontent.com/LambdaSchool/DS-Unit-2-Applied-Modeling/master/data/'\n",
    "    !pip install category_encoders==2.*\n",
    "\n",
    "# If you're working locally:\n",
    "else:\n",
    "    DATA_PATH = '/Users/keila/Documents/Lambda/Units_Git/DS-Unit-2-Linear-Models/data/'\n",
    "    \n",
    "# Ignore this Numpy warning when using Plotly Express:\n",
    "# FutureWarning: Method .ptp is deprecated and will be removed in a future version. Use numpy.ptp instead.\n",
    "import warnings\n",
    "warnings.filterwarnings(action='ignore', category=FutureWarning, module='numpy')"
   ]
  },
  {
   "cell_type": "code",
   "execution_count": 2,
   "metadata": {
    "colab": {},
    "colab_type": "code",
    "id": "cvrw-T3bZOuW"
   },
   "outputs": [],
   "source": [
    "import numpy as np\n",
    "import pandas as pd\n",
    "\n",
    "# Read New York City apartment rental listing data\n",
    "df = pd.read_csv(DATA_PATH+'apartments/renthop-nyc.csv')\n",
    "assert df.shape == (49352, 34)\n",
    "\n",
    "# Remove the most extreme 1% prices,\n",
    "# the most extreme .1% latitudes, &\n",
    "# the most extreme .1% longitudes\n",
    "df = df[(df['price'] >= np.percentile(df['price'], 0.5)) & \n",
    "        (df['price'] <= np.percentile(df['price'], 99.5)) & \n",
    "        (df['latitude'] >= np.percentile(df['latitude'], 0.05)) & \n",
    "        (df['latitude'] < np.percentile(df['latitude'], 99.95)) &\n",
    "        (df['longitude'] >= np.percentile(df['longitude'], 0.05)) & \n",
    "        (df['longitude'] <= np.percentile(df['longitude'], 99.95))]"
   ]
  },
  {
   "cell_type": "code",
   "execution_count": 3,
   "metadata": {},
   "outputs": [],
   "source": [
    "# Libraries for 3D visualization\n",
    "import matplotlib.pyplot as plt\n",
    "from mpl_toolkits.mplot3d import Axes3D\n",
    "from matplotlib import cm\n",
    "\n",
    "# Libraries for model buiding\n",
    "from sklearn.linear_model import LinearRegression\n",
    "from sklearn.metrics import mean_absolute_error, mean_squared_error, r2_score"
   ]
  },
  {
   "cell_type": "markdown",
   "metadata": {},
   "source": [
    "## Wrangle Data"
   ]
  },
  {
   "cell_type": "code",
   "execution_count": 4,
   "metadata": {},
   "outputs": [],
   "source": [
    "def wrangle(filepath):\n",
    "    df = pd.read_csv(filepath,\n",
    "                     dtype = {'description': str},\n",
    "                    parse_dates = ['created'],\n",
    "                    index_col = 'created')\n",
    "    df = df[(df['price'] >= np.percentile(df['price'], 0.5)) & \n",
    "        (df['price'] <= np.percentile(df['price'], 99.5)) & \n",
    "        (df['latitude'] >= np.percentile(df['latitude'], 0.05)) & \n",
    "        (df['latitude'] < np.percentile(df['latitude'], 99.95)) &\n",
    "        (df['longitude'] >= np.percentile(df['longitude'], 0.05)) & \n",
    "        (df['longitude'] <= np.percentile(df['longitude'], 99.95))]\n",
    "    return df"
   ]
  },
  {
   "cell_type": "code",
   "execution_count": 5,
   "metadata": {},
   "outputs": [],
   "source": [
    "# Apply wrangle function to df\n",
    "df = wrangle(DATA_PATH+'apartments/renthop-nyc.csv')"
   ]
  },
  {
   "cell_type": "code",
   "execution_count": 6,
   "metadata": {},
   "outputs": [
    {
     "data": {
      "text/plain": [
       "(48817, 33)"
      ]
     },
     "execution_count": 6,
     "metadata": {},
     "output_type": "execute_result"
    }
   ],
   "source": [
    "df.shape"
   ]
  },
  {
   "cell_type": "code",
   "execution_count": 7,
   "metadata": {},
   "outputs": [
    {
     "data": {
      "text/html": [
       "<div>\n",
       "<style scoped>\n",
       "    .dataframe tbody tr th:only-of-type {\n",
       "        vertical-align: middle;\n",
       "    }\n",
       "\n",
       "    .dataframe tbody tr th {\n",
       "        vertical-align: top;\n",
       "    }\n",
       "\n",
       "    .dataframe thead th {\n",
       "        text-align: right;\n",
       "    }\n",
       "</style>\n",
       "<table border=\"1\" class=\"dataframe\">\n",
       "  <thead>\n",
       "    <tr style=\"text-align: right;\">\n",
       "      <th></th>\n",
       "      <th>bathrooms</th>\n",
       "      <th>bedrooms</th>\n",
       "      <th>description</th>\n",
       "      <th>display_address</th>\n",
       "      <th>latitude</th>\n",
       "      <th>longitude</th>\n",
       "      <th>price</th>\n",
       "      <th>street_address</th>\n",
       "      <th>interest_level</th>\n",
       "      <th>elevator</th>\n",
       "      <th>...</th>\n",
       "      <th>high_speed_internet</th>\n",
       "      <th>balcony</th>\n",
       "      <th>swimming_pool</th>\n",
       "      <th>new_construction</th>\n",
       "      <th>terrace</th>\n",
       "      <th>exclusive</th>\n",
       "      <th>loft</th>\n",
       "      <th>garden_patio</th>\n",
       "      <th>wheelchair_access</th>\n",
       "      <th>common_outdoor_space</th>\n",
       "    </tr>\n",
       "    <tr>\n",
       "      <th>created</th>\n",
       "      <th></th>\n",
       "      <th></th>\n",
       "      <th></th>\n",
       "      <th></th>\n",
       "      <th></th>\n",
       "      <th></th>\n",
       "      <th></th>\n",
       "      <th></th>\n",
       "      <th></th>\n",
       "      <th></th>\n",
       "      <th></th>\n",
       "      <th></th>\n",
       "      <th></th>\n",
       "      <th></th>\n",
       "      <th></th>\n",
       "      <th></th>\n",
       "      <th></th>\n",
       "      <th></th>\n",
       "      <th></th>\n",
       "      <th></th>\n",
       "      <th></th>\n",
       "    </tr>\n",
       "  </thead>\n",
       "  <tbody>\n",
       "    <tr>\n",
       "      <th>2016-06-24 07:54:24</th>\n",
       "      <td>1.5</td>\n",
       "      <td>3</td>\n",
       "      <td>A Brand New 3 Bedroom 1.5 bath ApartmentEnjoy ...</td>\n",
       "      <td>Metropolitan Avenue</td>\n",
       "      <td>40.7145</td>\n",
       "      <td>-73.9425</td>\n",
       "      <td>3000</td>\n",
       "      <td>792 Metropolitan Avenue</td>\n",
       "      <td>medium</td>\n",
       "      <td>0</td>\n",
       "      <td>...</td>\n",
       "      <td>0</td>\n",
       "      <td>0</td>\n",
       "      <td>0</td>\n",
       "      <td>0</td>\n",
       "      <td>0</td>\n",
       "      <td>0</td>\n",
       "      <td>0</td>\n",
       "      <td>0</td>\n",
       "      <td>0</td>\n",
       "      <td>0</td>\n",
       "    </tr>\n",
       "    <tr>\n",
       "      <th>2016-06-12 12:19:27</th>\n",
       "      <td>1.0</td>\n",
       "      <td>2</td>\n",
       "      <td></td>\n",
       "      <td>Columbus Avenue</td>\n",
       "      <td>40.7947</td>\n",
       "      <td>-73.9667</td>\n",
       "      <td>5465</td>\n",
       "      <td>808 Columbus Avenue</td>\n",
       "      <td>low</td>\n",
       "      <td>1</td>\n",
       "      <td>...</td>\n",
       "      <td>0</td>\n",
       "      <td>0</td>\n",
       "      <td>0</td>\n",
       "      <td>0</td>\n",
       "      <td>0</td>\n",
       "      <td>0</td>\n",
       "      <td>0</td>\n",
       "      <td>0</td>\n",
       "      <td>0</td>\n",
       "      <td>0</td>\n",
       "    </tr>\n",
       "    <tr>\n",
       "      <th>2016-04-17 03:26:41</th>\n",
       "      <td>1.0</td>\n",
       "      <td>1</td>\n",
       "      <td>Top Top West Village location, beautiful Pre-w...</td>\n",
       "      <td>W 13 Street</td>\n",
       "      <td>40.7388</td>\n",
       "      <td>-74.0018</td>\n",
       "      <td>2850</td>\n",
       "      <td>241 W 13 Street</td>\n",
       "      <td>high</td>\n",
       "      <td>0</td>\n",
       "      <td>...</td>\n",
       "      <td>0</td>\n",
       "      <td>0</td>\n",
       "      <td>0</td>\n",
       "      <td>0</td>\n",
       "      <td>0</td>\n",
       "      <td>0</td>\n",
       "      <td>0</td>\n",
       "      <td>0</td>\n",
       "      <td>0</td>\n",
       "      <td>0</td>\n",
       "    </tr>\n",
       "    <tr>\n",
       "      <th>2016-04-18 02:22:02</th>\n",
       "      <td>1.0</td>\n",
       "      <td>1</td>\n",
       "      <td>Building Amenities - Garage - Garden - fitness...</td>\n",
       "      <td>East 49th Street</td>\n",
       "      <td>40.7539</td>\n",
       "      <td>-73.9677</td>\n",
       "      <td>3275</td>\n",
       "      <td>333 East 49th Street</td>\n",
       "      <td>low</td>\n",
       "      <td>0</td>\n",
       "      <td>...</td>\n",
       "      <td>0</td>\n",
       "      <td>0</td>\n",
       "      <td>0</td>\n",
       "      <td>0</td>\n",
       "      <td>0</td>\n",
       "      <td>0</td>\n",
       "      <td>0</td>\n",
       "      <td>0</td>\n",
       "      <td>0</td>\n",
       "      <td>0</td>\n",
       "    </tr>\n",
       "    <tr>\n",
       "      <th>2016-04-28 01:32:41</th>\n",
       "      <td>1.0</td>\n",
       "      <td>4</td>\n",
       "      <td>Beautifully renovated 3 bedroom flex 4 bedroom...</td>\n",
       "      <td>West 143rd Street</td>\n",
       "      <td>40.8241</td>\n",
       "      <td>-73.9493</td>\n",
       "      <td>3350</td>\n",
       "      <td>500 West 143rd Street</td>\n",
       "      <td>low</td>\n",
       "      <td>0</td>\n",
       "      <td>...</td>\n",
       "      <td>0</td>\n",
       "      <td>0</td>\n",
       "      <td>0</td>\n",
       "      <td>0</td>\n",
       "      <td>0</td>\n",
       "      <td>0</td>\n",
       "      <td>0</td>\n",
       "      <td>0</td>\n",
       "      <td>0</td>\n",
       "      <td>0</td>\n",
       "    </tr>\n",
       "  </tbody>\n",
       "</table>\n",
       "<p>5 rows × 33 columns</p>\n",
       "</div>"
      ],
      "text/plain": [
       "                     bathrooms  bedrooms  \\\n",
       "created                                    \n",
       "2016-06-24 07:54:24        1.5         3   \n",
       "2016-06-12 12:19:27        1.0         2   \n",
       "2016-04-17 03:26:41        1.0         1   \n",
       "2016-04-18 02:22:02        1.0         1   \n",
       "2016-04-28 01:32:41        1.0         4   \n",
       "\n",
       "                                                           description  \\\n",
       "created                                                                  \n",
       "2016-06-24 07:54:24  A Brand New 3 Bedroom 1.5 bath ApartmentEnjoy ...   \n",
       "2016-06-12 12:19:27                                                      \n",
       "2016-04-17 03:26:41  Top Top West Village location, beautiful Pre-w...   \n",
       "2016-04-18 02:22:02  Building Amenities - Garage - Garden - fitness...   \n",
       "2016-04-28 01:32:41  Beautifully renovated 3 bedroom flex 4 bedroom...   \n",
       "\n",
       "                         display_address  latitude  longitude  price  \\\n",
       "created                                                                \n",
       "2016-06-24 07:54:24  Metropolitan Avenue   40.7145   -73.9425   3000   \n",
       "2016-06-12 12:19:27      Columbus Avenue   40.7947   -73.9667   5465   \n",
       "2016-04-17 03:26:41          W 13 Street   40.7388   -74.0018   2850   \n",
       "2016-04-18 02:22:02     East 49th Street   40.7539   -73.9677   3275   \n",
       "2016-04-28 01:32:41    West 143rd Street   40.8241   -73.9493   3350   \n",
       "\n",
       "                              street_address interest_level  elevator  ...  \\\n",
       "created                                                                ...   \n",
       "2016-06-24 07:54:24  792 Metropolitan Avenue         medium         0  ...   \n",
       "2016-06-12 12:19:27      808 Columbus Avenue            low         1  ...   \n",
       "2016-04-17 03:26:41          241 W 13 Street           high         0  ...   \n",
       "2016-04-18 02:22:02     333 East 49th Street            low         0  ...   \n",
       "2016-04-28 01:32:41    500 West 143rd Street            low         0  ...   \n",
       "\n",
       "                     high_speed_internet  balcony  swimming_pool  \\\n",
       "created                                                            \n",
       "2016-06-24 07:54:24                    0        0              0   \n",
       "2016-06-12 12:19:27                    0        0              0   \n",
       "2016-04-17 03:26:41                    0        0              0   \n",
       "2016-04-18 02:22:02                    0        0              0   \n",
       "2016-04-28 01:32:41                    0        0              0   \n",
       "\n",
       "                     new_construction  terrace  exclusive  loft  garden_patio  \\\n",
       "created                                                                         \n",
       "2016-06-24 07:54:24                 0        0          0     0             0   \n",
       "2016-06-12 12:19:27                 0        0          0     0             0   \n",
       "2016-04-17 03:26:41                 0        0          0     0             0   \n",
       "2016-04-18 02:22:02                 0        0          0     0             0   \n",
       "2016-04-28 01:32:41                 0        0          0     0             0   \n",
       "\n",
       "                     wheelchair_access  common_outdoor_space  \n",
       "created                                                       \n",
       "2016-06-24 07:54:24                  0                     0  \n",
       "2016-06-12 12:19:27                  0                     0  \n",
       "2016-04-17 03:26:41                  0                     0  \n",
       "2016-04-18 02:22:02                  0                     0  \n",
       "2016-04-28 01:32:41                  0                     0  \n",
       "\n",
       "[5 rows x 33 columns]"
      ]
     },
     "execution_count": 7,
     "metadata": {},
     "output_type": "execute_result"
    }
   ],
   "source": [
    "df.head()"
   ]
  },
  {
   "cell_type": "code",
   "execution_count": 8,
   "metadata": {
    "scrolled": true
   },
   "outputs": [
    {
     "name": "stdout",
     "output_type": "stream",
     "text": [
      "<class 'pandas.core.frame.DataFrame'>\n",
      "DatetimeIndex: 48817 entries, 2016-06-24 07:54:24 to 2016-04-12 02:48:07\n",
      "Data columns (total 33 columns):\n",
      " #   Column                Non-Null Count  Dtype  \n",
      "---  ------                --------------  -----  \n",
      " 0   bathrooms             48817 non-null  float64\n",
      " 1   bedrooms              48817 non-null  int64  \n",
      " 2   description           47392 non-null  object \n",
      " 3   display_address       48684 non-null  object \n",
      " 4   latitude              48817 non-null  float64\n",
      " 5   longitude             48817 non-null  float64\n",
      " 6   price                 48817 non-null  int64  \n",
      " 7   street_address        48807 non-null  object \n",
      " 8   interest_level        48817 non-null  object \n",
      " 9   elevator              48817 non-null  int64  \n",
      " 10  cats_allowed          48817 non-null  int64  \n",
      " 11  hardwood_floors       48817 non-null  int64  \n",
      " 12  dogs_allowed          48817 non-null  int64  \n",
      " 13  doorman               48817 non-null  int64  \n",
      " 14  dishwasher            48817 non-null  int64  \n",
      " 15  no_fee                48817 non-null  int64  \n",
      " 16  laundry_in_building   48817 non-null  int64  \n",
      " 17  fitness_center        48817 non-null  int64  \n",
      " 18  pre-war               48817 non-null  int64  \n",
      " 19  laundry_in_unit       48817 non-null  int64  \n",
      " 20  roof_deck             48817 non-null  int64  \n",
      " 21  outdoor_space         48817 non-null  int64  \n",
      " 22  dining_room           48817 non-null  int64  \n",
      " 23  high_speed_internet   48817 non-null  int64  \n",
      " 24  balcony               48817 non-null  int64  \n",
      " 25  swimming_pool         48817 non-null  int64  \n",
      " 26  new_construction      48817 non-null  int64  \n",
      " 27  terrace               48817 non-null  int64  \n",
      " 28  exclusive             48817 non-null  int64  \n",
      " 29  loft                  48817 non-null  int64  \n",
      " 30  garden_patio          48817 non-null  int64  \n",
      " 31  wheelchair_access     48817 non-null  int64  \n",
      " 32  common_outdoor_space  48817 non-null  int64  \n",
      "dtypes: float64(3), int64(26), object(4)\n",
      "memory usage: 12.7+ MB\n"
     ]
    }
   ],
   "source": [
    "df.info()"
   ]
  },
  {
   "cell_type": "markdown",
   "metadata": {},
   "source": [
    "## Engineer Features"
   ]
  },
  {
   "cell_type": "code",
   "execution_count": 9,
   "metadata": {},
   "outputs": [],
   "source": [
    "# Split every string in column, returning a list\n",
    "split_strs = [str(description).split() for description in df['description']]\n",
    "\n",
    "# Make that list into an array\n",
    "split_strs = np.array(split_strs, dtype = object)\n",
    "\n",
    "# Use vectorize function from numpy\n",
    "check_len = np.vectorize(len)\n",
    "\n",
    "# Find length of each element in array\n",
    "str_lengths = check_len(split_strs)"
   ]
  },
  {
   "cell_type": "code",
   "execution_count": 10,
   "metadata": {},
   "outputs": [],
   "source": [
    "# Make new feature in df with the array containing lengths of description\n",
    "df['description_length'] = str_lengths"
   ]
  },
  {
   "cell_type": "code",
   "execution_count": 11,
   "metadata": {},
   "outputs": [
    {
     "data": {
      "image/png": "[encoded data removed]",
      "text/plain": [
       "<Figure size 432x288 with 1 Axes>"
      ]
     },
     "metadata": {
      "needs_background": "light"
     },
     "output_type": "display_data"
    }
   ],
   "source": [
    "# Visualize relationship between target and description lengths\n",
    "plt.scatter(df['description_length'], df['price'])\n",
    "plt.xlabel('Number of Words in Apartment Listing Description')\n",
    "plt.ylabel('Price of Rent [$]');"
   ]
  },
  {
   "cell_type": "code",
   "execution_count": 12,
   "metadata": {},
   "outputs": [],
   "source": [
    "# Make feature of ratio bed/bath rooms\n",
    "df['bed_bath_ratio'] = df['bedrooms']/df['bathrooms']\n",
    "\n",
    "# Some will be inifinity due to dividing by 0, so I am replacing to NaN\n",
    "df['bed_bath_ratio'] = df['bed_bath_ratio'].replace([np.inf, -np.inf], np.nan)\n",
    "# Replacing all NaN to 0\n",
    "df['bed_bath_ratio'] = df['bed_bath_ratio'].fillna(0)"
   ]
  },
  {
   "cell_type": "code",
   "execution_count": 13,
   "metadata": {
    "scrolled": true
   },
   "outputs": [
    {
     "data": {
      "image/png": "[encoded data removed]",
      "text/plain": [
       "<Figure size 432x288 with 1 Axes>"
      ]
     },
     "metadata": {
      "needs_background": "light"
     },
     "output_type": "display_data"
    }
   ],
   "source": [
    "# Visualize relationship between bed/bath ration and price\n",
    "plt.scatter(df['bed_bath_ratio'], df['price'])\n",
    "plt.xlabel('Ratio of Number of Bedrooms to Bathrooms')\n",
    "plt.ylabel('Price of Rent [$]');"
   ]
  },
  {
   "cell_type": "code",
   "execution_count": 14,
   "metadata": {},
   "outputs": [],
   "source": [
    "# Create feature of total number of rooms in apartment\n",
    "df['total_rooms'] = df['bedrooms'] + df['bathrooms']"
   ]
  },
  {
   "cell_type": "code",
   "execution_count": 15,
   "metadata": {
    "scrolled": true
   },
   "outputs": [
    {
     "data": {
      "image/png": "[encoded data removed]",
      "text/plain": [
       "<Figure size 432x288 with 1 Axes>"
      ]
     },
     "metadata": {
      "needs_background": "light"
     },
     "output_type": "display_data"
    }
   ],
   "source": [
    "# Visualize relationship between number of rooms and price\n",
    "plt.scatter(df['total_rooms'], df['price'])\n",
    "plt.xlabel('Number of Rooms')\n",
    "plt.ylabel('Price of Rent [$]');"
   ]
  },
  {
   "cell_type": "markdown",
   "metadata": {},
   "source": [
    "## Split Data"
   ]
  },
  {
   "cell_type": "code",
   "execution_count": 16,
   "metadata": {},
   "outputs": [],
   "source": [
    "# Split into feature matrix and target vector\n",
    "X = df[['description_length', 'bed_bath_ratio']]\n",
    "y = df['price']"
   ]
  },
  {
   "cell_type": "code",
   "execution_count": 17,
   "metadata": {},
   "outputs": [],
   "source": [
    "# Split into training and test sets\n",
    "cutoff = '2016-06-01'\n",
    "mask = df.index < cutoff\n",
    "X_train, y_train = X.loc[mask], y.loc[mask]\n",
    "X_test, y_test = X.loc[~mask], y.loc[~mask]"
   ]
  },
  {
   "cell_type": "code",
   "execution_count": 18,
   "metadata": {
    "scrolled": true
   },
   "outputs": [
    {
     "name": "stdout",
     "output_type": "stream",
     "text": [
      "(31844, 2)\n",
      "(31844,)\n",
      "(16973, 2)\n",
      "(16973,)\n"
     ]
    }
   ],
   "source": [
    "# Make sure everything has correct dimensions\n",
    "print(X_train.shape)\n",
    "print(y_train.shape)\n",
    "print(X_test.shape)\n",
    "print(y_test.shape)"
   ]
  },
  {
   "cell_type": "markdown",
   "metadata": {},
   "source": [
    "## Establish Baseline"
   ]
  },
  {
   "cell_type": "code",
   "execution_count": 19,
   "metadata": {},
   "outputs": [
    {
     "name": "stdout",
     "output_type": "stream",
     "text": [
      "Mean NYC Apartment Rent: 3575.604007034292\n",
      "Baseline MAE: 1201.8811133682555\n"
     ]
    }
   ],
   "source": [
    "print('Mean NYC Apartment Rent:', y_train.mean())\n",
    "y_pred = [y_train.mean()] * len(y_train)\n",
    "print('Baseline MAE:', mean_absolute_error(y_train, y_pred))"
   ]
  },
  {
   "cell_type": "markdown",
   "metadata": {},
   "source": [
    "## Build Model"
   ]
  },
  {
   "cell_type": "code",
   "execution_count": 20,
   "metadata": {},
   "outputs": [
    {
     "data": {
      "text/plain": [
       "LinearRegression()"
      ]
     },
     "execution_count": 20,
     "metadata": {},
     "output_type": "execute_result"
    }
   ],
   "source": [
    "# 1. Import predictor class, which I did above\n",
    "\n",
    "# 2. Instantiate model\n",
    "model = LinearRegression()\n",
    "\n",
    "# 3. Fit training data to model\n",
    "model.fit(X_train, y_train)"
   ]
  },
  {
   "cell_type": "code",
   "execution_count": 32,
   "metadata": {},
   "outputs": [
    {
     "data": {
      "image/png": "[encoded data removed]",
      "text/plain": [
       "<Figure size 432x432 with 1 Axes>"
      ]
     },
     "metadata": {
      "needs_background": "light"
     },
     "output_type": "display_data"
    }
   ],
   "source": [
    "# Set up inital figure and axes\n",
    "fig = plt.figure(figsize = (6, 6))\n",
    "ax = fig.add_subplot(111, projection = '3d')\n",
    "\n",
    "# Make colors get consecutively lighter\n",
    "color = [item for item in X_train['description_length']]\n",
    "\n",
    "# Plot the data\n",
    "ax.scatter(xs = X_train['description_length'], ys = X_train['bed_bath_ratio'], zs = y_train, c = color)\n",
    "\n",
    "# Plot baseline\n",
    "ax.plot(X_train['description_length'], X_train['bed_bath_ratio'], y_train.mean(), label = 'Baseline Model', \n",
    "        color = '#E37F0A', alpha = 0.4)\n",
    "\n",
    "\n",
    "# Plot linear model\n",
    "ax.plot(X_train['description_length'], X_train['bed_bath_ratio'], model.predict(X_train), \n",
    "        label = 'Linear Model', color = '#E30A1A', alpha = 0.4)\n",
    "\n",
    "\n",
    "ax.set_xlabel('Number of Words in Apartment Listing Description')\n",
    "ax.set_ylabel('Bedroom to Bathroom Ratio')\n",
    "ax.set_zlabel('Price of Rent [$]')\n",
    "plt.legend()\n",
    "\n",
    "plt.show()"
   ]
  },
  {
   "cell_type": "code",
   "execution_count": 42,
   "metadata": {},
   "outputs": [
    {
     "name": "stdout",
     "output_type": "stream",
     "text": [
      "Rent price = 2690.72 + description_length*4.00 + bed_bath_ratio*423.68\n"
     ]
    }
   ],
   "source": [
    "# Equation of best fit plane\n",
    "print('Rent price = {:.2f} + description_length*{:.2f} + bed_bath_ratio*{:.2f}'.format(\n",
    "    model.intercept_, model.coef_[0], model.coef_[1]))"
   ]
  },
  {
   "cell_type": "markdown",
   "metadata": {},
   "source": [
    "## Check Metrics"
   ]
  },
  {
   "cell_type": "code",
   "execution_count": 43,
   "metadata": {},
   "outputs": [
    {
     "name": "stdout",
     "output_type": "stream",
     "text": [
      "Training MAE: 1130.4246685606986\n",
      "Test MAE: 1128.4561479258066\n"
     ]
    }
   ],
   "source": [
    "print('Training MAE:', mean_absolute_error(y_train, model.predict(X_train)))\n",
    "print('Test MAE:', mean_absolute_error(y_test, model.predict(X_test)))"
   ]
  },
  {
   "cell_type": "code",
   "execution_count": 44,
   "metadata": {},
   "outputs": [
    {
     "name": "stdout",
     "output_type": "stream",
     "text": [
      "Training RSME: 1704.0943224143607\n",
      "Test RSME: 1705.4911760046334\n"
     ]
    }
   ],
   "source": [
    "print('Training RSME:', mean_squared_error(y_train, model.predict(X_train), squared = False))\n",
    "print('Test RSME:', mean_squared_error(y_test, model.predict(X_test), squared = False))"
   ]
  },
  {
   "cell_type": "code",
   "execution_count": 45,
   "metadata": {},
   "outputs": [
    {
     "name": "stdout",
     "output_type": "stream",
     "text": [
      "Traning R^2: 0.06476294065467525\n",
      "Test R^2: 0.0641311944948858\n"
     ]
    }
   ],
   "source": [
    "print('Traning R^2:', r2_score(y_train, model.predict(X_train)))\n",
    "print('Test R^2:', r2_score(y_test, model.predict(X_test)))"
   ]
  },
  {
   "cell_type": "markdown",
   "metadata": {},
   "source": [
    "# Try to get better model"
   ]
  },
  {
   "cell_type": "markdown",
   "metadata": {},
   "source": [
    "## Split Data"
   ]
  },
  {
   "cell_type": "code",
   "execution_count": 33,
   "metadata": {
    "scrolled": true
   },
   "outputs": [
    {
     "data": {
      "text/plain": [
       "Index(['bathrooms', 'bedrooms', 'description', 'display_address', 'latitude',\n",
       "       'longitude', 'price', 'street_address', 'interest_level', 'elevator',\n",
       "       'cats_allowed', 'hardwood_floors', 'dogs_allowed', 'doorman',\n",
       "       'dishwasher', 'no_fee', 'laundry_in_building', 'fitness_center',\n",
       "       'pre-war', 'laundry_in_unit', 'roof_deck', 'outdoor_space',\n",
       "       'dining_room', 'high_speed_internet', 'balcony', 'swimming_pool',\n",
       "       'new_construction', 'terrace', 'exclusive', 'loft', 'garden_patio',\n",
       "       'wheelchair_access', 'common_outdoor_space', 'description_length',\n",
       "       'bed_bath_ratio', 'total_rooms'],\n",
       "      dtype='object')"
      ]
     },
     "execution_count": 33,
     "metadata": {},
     "output_type": "execute_result"
    }
   ],
   "source": [
    "# Get column names to copy-paste\n",
    "df.columns"
   ]
  },
  {
   "cell_type": "code",
   "execution_count": 34,
   "metadata": {},
   "outputs": [],
   "source": [
    "# Features to use. 27 features total\n",
    "feats_to_use = ['elevator','cats_allowed', 'hardwood_floors', 'dogs_allowed', 'doorman', 'dishwasher', \n",
    "                'no_fee', 'laundry_in_building', 'fitness_center','pre-war', 'laundry_in_unit', \n",
    "                'roof_deck', 'outdoor_space', 'dining_room', 'high_speed_internet', 'balcony', \n",
    "                'swimming_pool', 'new_construction', 'terrace', 'exclusive', 'loft', 'garden_patio',\n",
    "                'wheelchair_access', 'common_outdoor_space', 'description_length','bed_bath_ratio', \n",
    "                'total_rooms']\n",
    "\n",
    "# Split data into target matrix and feature vector\n",
    "X2 = df[feats_to_use]\n",
    "y2 = df['price']"
   ]
  },
  {
   "cell_type": "code",
   "execution_count": 38,
   "metadata": {},
   "outputs": [],
   "source": [
    "# Split into training and test sets\n",
    "cutoff = '2016-06-01'\n",
    "mask = df.index < cutoff\n",
    "X2_train, y2_train = X2.loc[mask], y2.loc[mask]\n",
    "X2_test, y2_test = X2.loc[~mask], y2.loc[~mask]"
   ]
  },
  {
   "cell_type": "code",
   "execution_count": 39,
   "metadata": {},
   "outputs": [
    {
     "name": "stdout",
     "output_type": "stream",
     "text": [
      "(31844, 27)\n",
      "(31844,)\n",
      "(16973, 27)\n",
      "(16973,)\n"
     ]
    }
   ],
   "source": [
    "# Make sure everythign is correct shape\n",
    "print(X2_train.shape)\n",
    "print(y2_train.shape)\n",
    "print(X2_test.shape)\n",
    "print(y2_test.shape)"
   ]
  },
  {
   "cell_type": "markdown",
   "metadata": {},
   "source": [
    "## Establish Baseline"
   ]
  },
  {
   "cell_type": "code",
   "execution_count": 50,
   "metadata": {},
   "outputs": [
    {
     "name": "stdout",
     "output_type": "stream",
     "text": [
      "Mean NYC Apartment Rent: 3575.604007034292\n",
      "Baseline MAE: 1201.8811133682555\n"
     ]
    }
   ],
   "source": [
    "print('Mean NYC Apartment Rent:', y2_train.mean())\n",
    "y2_pred = [y2_train.mean()] * len(y2_train)\n",
    "print('Baseline MAE:', mean_absolute_error(y2_train, y2_pred))"
   ]
  },
  {
   "cell_type": "markdown",
   "metadata": {},
   "source": [
    "## Build Model"
   ]
  },
  {
   "cell_type": "code",
   "execution_count": 40,
   "metadata": {},
   "outputs": [
    {
     "data": {
      "text/plain": [
       "LinearRegression()"
      ]
     },
     "execution_count": 40,
     "metadata": {},
     "output_type": "execute_result"
    }
   ],
   "source": [
    "# Instantiate model\n",
    "model2 = LinearRegression()\n",
    "\n",
    "# Fit model to training set using 27 features\n",
    "model2.fit(X2_train, y2_train)"
   ]
  },
  {
   "cell_type": "markdown",
   "metadata": {},
   "source": [
    "## Check Metrics"
   ]
  },
  {
   "cell_type": "code",
   "execution_count": 41,
   "metadata": {},
   "outputs": [
    {
     "name": "stdout",
     "output_type": "stream",
     "text": [
      "Training MAE: 752.6982716619082\n",
      "Test MAE: 759.9275458116521\n"
     ]
    }
   ],
   "source": [
    "print('Training MAE:', mean_absolute_error(y2_train, model2.predict(X2_train)))\n",
    "print('Test MAE:', mean_absolute_error(y2_test, model2.predict(X2_test)))"
   ]
  },
  {
   "cell_type": "code",
   "execution_count": 46,
   "metadata": {},
   "outputs": [
    {
     "name": "stdout",
     "output_type": "stream",
     "text": [
      "Training RSME: 1152.424052806823\n",
      "Test RSME: 1142.2011214252643\n"
     ]
    }
   ],
   "source": [
    "print('Training RSME:', mean_squared_error(y2_train, model2.predict(X2_train), squared = False))\n",
    "print('Test RSME:', mean_squared_error(y2_test, model2.predict(X2_test), squared = False))"
   ]
  },
  {
   "cell_type": "code",
   "execution_count": 47,
   "metadata": {},
   "outputs": [
    {
     "name": "stdout",
     "output_type": "stream",
     "text": [
      "Traning R^2: 0.5722804740274918\n",
      "Test R^2: 0.5802398731053278\n"
     ]
    }
   ],
   "source": [
    "print('Traning R^2:', r2_score(y2_train, model2.predict(X2_train)))\n",
    "print('Test R^2:', r2_score(y2_test, model2.predict(X2_test)))"
   ]
  },
  {
   "cell_type": "markdown",
   "metadata": {},
   "source": [
    "Using 27 features returned a much better MAE, RSME, and R^2."
   ]
  },
  {
   "cell_type": "code",
   "execution_count": null,
   "metadata": {},
   "outputs": [],
   "source": []
  }
 ],
 "metadata": {
  "kernelspec": {
   "display_name": "unit2venv",
   "language": "python",
   "name": "unit2venv"
  },
  "language_info": {
   "codemirror_mode": {
    "name": "ipython",
    "version": 3
   },
   "file_extension": ".py",
   "mimetype": "text/x-python",
   "name": "python",
   "nbconvert_exporter": "python",
   "pygments_lexer": "ipython3",
   "version": "3.8.6"
  }
 },
 "nbformat": 4,
 "nbformat_minor": 1
}

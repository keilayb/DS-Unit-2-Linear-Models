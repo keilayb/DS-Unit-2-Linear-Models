{
 "cells": [
  {
   "cell_type": "markdown",
   "metadata": {},
   "source": [
    "Lambda School Data Science\n",
    "\n",
    "*Unit 2, Sprint 1, Module 3*\n",
    "\n",
    "---"
   ]
  },
  {
   "cell_type": "markdown",
   "metadata": {
    "colab_type": "text",
    "id": "7IXUfiQ2UKj6"
   },
   "source": [
    "# Ridge Regression\n",
    "\n",
    "## Assignment\n",
    "\n",
    "We're going back to our other **New York City** real estate dataset. Instead of predicting apartment rents, you'll predict property sales prices.\n",
    "\n",
    "But not just for condos in Tribeca...\n",
    "\n",
    "- [x] Use a subset of the data where `BUILDING_CLASS_CATEGORY` == `'01 ONE FAMILY DWELLINGS'` and the sale price was more than 100 thousand and less than 2 million.\n",
    "- [x] Do train/test split. Use data from January — March 2019 to train. Use data from April 2019 to test.\n",
    "- [x] Do one-hot encoding of categorical features.\n",
    "- [x] Do feature selection with `SelectKBest`.\n",
    "- [x] Fit a ridge regression model with multiple features. Use the `normalize=True` parameter (or do [feature scaling](https://scikit-learn.org/stable/modules/preprocessing.html) beforehand — use the scaler's `fit_transform` method with the train set, and the scaler's `transform` method with the test set)\n",
    "- [x] Get mean absolute error for the test set.\n",
    "- [x] As always, commit your notebook to your fork of the GitHub repo.\n",
    "\n",
    "The [NYC Department of Finance](https://www1.nyc.gov/site/finance/taxes/property-rolling-sales-data.page) has a glossary of property sales terms and NYC Building Class Code Descriptions. The data comes from the [NYC OpenData](https://data.cityofnewyork.us/browse?q=NYC%20calendar%20sales) portal.\n",
    "\n",
    "\n",
    "## Stretch Goals\n",
    "\n",
    "Don't worry, you aren't expected to do all these stretch goals! These are just ideas to consider and choose from.\n",
    "\n",
    "- [ ] Add your own stretch goal(s) !\n",
    "- [ ] Instead of `Ridge`, try `LinearRegression`. Depending on how many features you select, your errors will probably blow up! 💥\n",
    "- [ ] Instead of `Ridge`, try [`RidgeCV`](https://scikit-learn.org/stable/modules/generated/sklearn.linear_model.RidgeCV.html).\n",
    "- [ ] Learn more about feature selection:\n",
    "    - [\"Permutation importance\"](https://www.kaggle.com/dansbecker/permutation-importance)\n",
    "    - [scikit-learn's User Guide for Feature Selection](https://scikit-learn.org/stable/modules/feature_selection.html)\n",
    "    - [mlxtend](http://rasbt.github.io/mlxtend/) library\n",
    "    - scikit-learn-contrib libraries: [boruta_py](https://github.com/scikit-learn-contrib/boruta_py) & [stability-selection](https://github.com/scikit-learn-contrib/stability-selection)\n",
    "    - [_Feature Engineering and Selection_](http://www.feat.engineering/) by Kuhn & Johnson.\n",
    "- [ ] Try [statsmodels](https://www.statsmodels.org/stable/index.html) if you’re interested in more inferential statistical approach to linear regression and feature selection, looking at p values and 95% confidence intervals for the coefficients.\n",
    "- [ ] Read [_An Introduction to Statistical Learning_](http://faculty.marshall.usc.edu/gareth-james/ISL/ISLR%20Seventh%20Printing.pdf), Chapters 1-3, for more math & theory, but in an accessible, readable way.\n",
    "- [ ] Try [scikit-learn pipelines](https://scikit-learn.org/stable/modules/compose.html)."
   ]
  },
  {
   "cell_type": "code",
   "execution_count": 1,
   "metadata": {
    "colab": {},
    "colab_type": "code",
    "id": "o9eSnDYhUGD7"
   },
   "outputs": [],
   "source": [
    "%%capture\n",
    "import sys\n",
    "\n",
    "# If you're on Colab:\n",
    "if 'google.colab' in sys.modules:\n",
    "    DATA_PATH = 'https://raw.githubusercontent.com/LambdaSchool/DS-Unit-2-Applied-Modeling/master/data/'\n",
    "    !pip install category_encoders==2.*\n",
    "\n",
    "# If you're working locally:\n",
    "else:\n",
    "    DATA_PATH = '/Users/keila/Documents/Lambda/Units_Git/DS-Unit-2-Linear-Models/data/'\n",
    "    \n",
    "# Ignore this Numpy warning when using Plotly Express:\n",
    "# FutureWarning: Method .ptp is deprecated and will be removed in a future version. Use numpy.ptp instead.\n",
    "import warnings\n",
    "warnings.filterwarnings(action='ignore', category=FutureWarning, module='numpy')"
   ]
  },
  {
   "cell_type": "code",
   "execution_count": 2,
   "metadata": {
    "colab": {},
    "colab_type": "code",
    "id": "QJBD4ruICm1m"
   },
   "outputs": [
    {
     "name": "stderr",
     "output_type": "stream",
     "text": [
      "<ipython-input-2-af795232c33e>:13: FutureWarning: The default value of regex will change from True to False in a future version. In addition, single character regular expressions will*not* be treated as literal strings when regex=True.\n",
      "  df['SALE_PRICE']\n"
     ]
    }
   ],
   "source": [
    "import pandas as pd\n",
    "import pandas_profiling\n",
    "\n",
    "# Read New York City property sales data\n",
    "df = pd.read_csv(DATA_PATH+'condos/NYC_Citywide_Rolling_Calendar_Sales.csv')\n",
    "\n",
    "# Change column names: replace spaces with underscores\n",
    "df.columns = [col.replace(' ', '_') for col in df]\n",
    "\n",
    "# SALE_PRICE was read as strings.\n",
    "# Remove symbols, convert to integer\n",
    "df['SALE_PRICE'] = (\n",
    "    df['SALE_PRICE']\n",
    "    .str.replace('$','')\n",
    "    .str.replace('-','')\n",
    "    .str.replace(',','')\n",
    "    .astype(int)\n",
    ")"
   ]
  },
  {
   "cell_type": "code",
   "execution_count": 3,
   "metadata": {},
   "outputs": [],
   "source": [
    "# BOROUGH is a numeric column, but arguably should be a categorical feature,\n",
    "# so convert it from a number to a string\n",
    "df['BOROUGH'] = df['BOROUGH'].astype(str)"
   ]
  },
  {
   "cell_type": "code",
   "execution_count": 4,
   "metadata": {},
   "outputs": [],
   "source": [
    "# Reduce cardinality for NEIGHBORHOOD feature\n",
    "\n",
    "# Get a list of the top 10 neighborhoods\n",
    "top10 = df['NEIGHBORHOOD'].value_counts()[:10].index\n",
    "\n",
    "# At locations where the neighborhood is NOT in the top 10, \n",
    "# replace the neighborhood with 'OTHER'\n",
    "df.loc[~df['NEIGHBORHOOD'].isin(top10), 'NEIGHBORHOOD'] = 'OTHER'"
   ]
  },
  {
   "cell_type": "code",
   "execution_count": 5,
   "metadata": {},
   "outputs": [],
   "source": [
    "# Model Building\n",
    "from sklearn.feature_selection import SelectKBest, f_regression\n",
    "from sklearn.linear_model import LinearRegression, Ridge\n",
    "from sklearn.metrics import mean_absolute_error, mean_squared_error\n",
    "from sklearn.pipeline import make_pipeline\n",
    "import numpy as np\n",
    "import pandas as pd\n",
    "\n",
    "# Visualizations\n",
    "import matplotlib.pyplot as plt\n",
    "\n",
    "# For encoding categorical data\n",
    "from category_encoders import OneHotEncoder"
   ]
  },
  {
   "cell_type": "markdown",
   "metadata": {},
   "source": [
    "## Wrangle Data"
   ]
  },
  {
   "cell_type": "code",
   "execution_count": 6,
   "metadata": {},
   "outputs": [],
   "source": [
    "def wrangle(filepath):\n",
    "    # Read New York City property sales data\n",
    "    df = pd.read_csv(filepath, parse_dates = ['SALE DATE'], index_col = 'SALE DATE')\n",
    "\n",
    "    # Change column names: replace spaces with underscores\n",
    "    df.columns = [col.replace(' ', '_') for col in df]\n",
    "\n",
    "    # SALE_PRICE was read as strings.\n",
    "    # Remove symbols, convert to integer\n",
    "    df['SALE_PRICE'] = (df['SALE_PRICE'].str.replace('$','').str.replace('-','').str.replace(',','').astype(int))\n",
    "    \n",
    "    # BOROUGH is a numeric column, but arguably should be a categorical feature,\n",
    "    # so convert it from a number to a string\n",
    "    df['BOROUGH'] = df['BOROUGH'].astype(str)\n",
    "    \n",
    "    # Reduce cardinality for NEIGHBORHOOD feature\n",
    "\n",
    "    # Get a list of the top 10 neighborhoods\n",
    "    top10 = df['NEIGHBORHOOD'].value_counts()[:10].index\n",
    "\n",
    "    # At locations where the neighborhood is NOT in the top 10, \n",
    "    # replace the neighborhood with 'OTHER'\n",
    "    df.loc[~df['NEIGHBORHOOD'].isin(top10), 'NEIGHBORHOOD'] = 'OTHER'\n",
    "    \n",
    "    # Remove high-cardinality categorical variables\n",
    "    cutoff = 50\n",
    "    drop_cols = [col for col in df.select_dtypes('object') if df[col].nunique() > cutoff]\n",
    "    df.drop(columns = drop_cols, inplace = True)\n",
    "    \n",
    "    return df"
   ]
  },
  {
   "cell_type": "code",
   "execution_count": 7,
   "metadata": {},
   "outputs": [
    {
     "name": "stderr",
     "output_type": "stream",
     "text": [
      "<ipython-input-6-33efbe81ea25>:10: FutureWarning: The default value of regex will change from True to False in a future version. In addition, single character regular expressions will*not* be treated as literal strings when regex=True.\n",
      "  df['SALE_PRICE'] = (df['SALE_PRICE'].str.replace('$','').str.replace('-','').str.replace(',','').astype(int))\n"
     ]
    }
   ],
   "source": [
    "# Apply wrangle function\n",
    "df = wrangle(DATA_PATH+'condos/NYC_Citywide_Rolling_Calendar_Sales.csv')"
   ]
  },
  {
   "cell_type": "code",
   "execution_count": 8,
   "metadata": {},
   "outputs": [
    {
     "data": {
      "text/html": [
       "<div>\n",
       "<style scoped>\n",
       "    .dataframe tbody tr th:only-of-type {\n",
       "        vertical-align: middle;\n",
       "    }\n",
       "\n",
       "    .dataframe tbody tr th {\n",
       "        vertical-align: top;\n",
       "    }\n",
       "\n",
       "    .dataframe thead th {\n",
       "        text-align: right;\n",
       "    }\n",
       "</style>\n",
       "<table border=\"1\" class=\"dataframe\">\n",
       "  <thead>\n",
       "    <tr style=\"text-align: right;\">\n",
       "      <th></th>\n",
       "      <th>BOROUGH</th>\n",
       "      <th>NEIGHBORHOOD</th>\n",
       "      <th>BUILDING_CLASS_CATEGORY</th>\n",
       "      <th>TAX_CLASS_AT_PRESENT</th>\n",
       "      <th>BLOCK</th>\n",
       "      <th>LOT</th>\n",
       "      <th>EASE-MENT</th>\n",
       "      <th>ZIP_CODE</th>\n",
       "      <th>RESIDENTIAL_UNITS</th>\n",
       "      <th>COMMERCIAL_UNITS</th>\n",
       "      <th>TOTAL_UNITS</th>\n",
       "      <th>GROSS_SQUARE_FEET</th>\n",
       "      <th>YEAR_BUILT</th>\n",
       "      <th>TAX_CLASS_AT_TIME_OF_SALE</th>\n",
       "      <th>SALE_PRICE</th>\n",
       "    </tr>\n",
       "    <tr>\n",
       "      <th>SALE DATE</th>\n",
       "      <th></th>\n",
       "      <th></th>\n",
       "      <th></th>\n",
       "      <th></th>\n",
       "      <th></th>\n",
       "      <th></th>\n",
       "      <th></th>\n",
       "      <th></th>\n",
       "      <th></th>\n",
       "      <th></th>\n",
       "      <th></th>\n",
       "      <th></th>\n",
       "      <th></th>\n",
       "      <th></th>\n",
       "      <th></th>\n",
       "    </tr>\n",
       "  </thead>\n",
       "  <tbody>\n",
       "    <tr>\n",
       "      <th>2019-04-30</th>\n",
       "      <td>4</td>\n",
       "      <td>OTHER</td>\n",
       "      <td>01 ONE FAMILY DWELLINGS</td>\n",
       "      <td>1</td>\n",
       "      <td>10965</td>\n",
       "      <td>276</td>\n",
       "      <td>NaN</td>\n",
       "      <td>11429.0</td>\n",
       "      <td>1.0</td>\n",
       "      <td>0.0</td>\n",
       "      <td>1.0</td>\n",
       "      <td>1224.0</td>\n",
       "      <td>1945.0</td>\n",
       "      <td>1</td>\n",
       "      <td>510000</td>\n",
       "    </tr>\n",
       "    <tr>\n",
       "      <th>2019-04-30</th>\n",
       "      <td>4</td>\n",
       "      <td>OTHER</td>\n",
       "      <td>09 COOPS - WALKUP APARTMENTS</td>\n",
       "      <td>2</td>\n",
       "      <td>169</td>\n",
       "      <td>29</td>\n",
       "      <td>NaN</td>\n",
       "      <td>11104.0</td>\n",
       "      <td>0.0</td>\n",
       "      <td>0.0</td>\n",
       "      <td>0.0</td>\n",
       "      <td>0.0</td>\n",
       "      <td>1929.0</td>\n",
       "      <td>2</td>\n",
       "      <td>355000</td>\n",
       "    </tr>\n",
       "    <tr>\n",
       "      <th>2019-04-30</th>\n",
       "      <td>4</td>\n",
       "      <td>OTHER</td>\n",
       "      <td>10 COOPS - ELEVATOR APARTMENTS</td>\n",
       "      <td>2</td>\n",
       "      <td>131</td>\n",
       "      <td>4</td>\n",
       "      <td>NaN</td>\n",
       "      <td>11377.0</td>\n",
       "      <td>0.0</td>\n",
       "      <td>0.0</td>\n",
       "      <td>0.0</td>\n",
       "      <td>0.0</td>\n",
       "      <td>1932.0</td>\n",
       "      <td>2</td>\n",
       "      <td>375000</td>\n",
       "    </tr>\n",
       "    <tr>\n",
       "      <th>2019-04-30</th>\n",
       "      <td>4</td>\n",
       "      <td>OTHER</td>\n",
       "      <td>02 TWO FAMILY DWELLINGS</td>\n",
       "      <td>1</td>\n",
       "      <td>8932</td>\n",
       "      <td>18</td>\n",
       "      <td>NaN</td>\n",
       "      <td>11421.0</td>\n",
       "      <td>2.0</td>\n",
       "      <td>1.0</td>\n",
       "      <td>3.0</td>\n",
       "      <td>2200.0</td>\n",
       "      <td>1931.0</td>\n",
       "      <td>1</td>\n",
       "      <td>1100000</td>\n",
       "    </tr>\n",
       "    <tr>\n",
       "      <th>2019-04-30</th>\n",
       "      <td>4</td>\n",
       "      <td>OTHER</td>\n",
       "      <td>12 CONDOS - WALKUP APARTMENTS</td>\n",
       "      <td>2</td>\n",
       "      <td>1216</td>\n",
       "      <td>1161</td>\n",
       "      <td>NaN</td>\n",
       "      <td>11377.0</td>\n",
       "      <td>1.0</td>\n",
       "      <td>0.0</td>\n",
       "      <td>85.0</td>\n",
       "      <td>854.0</td>\n",
       "      <td>1927.0</td>\n",
       "      <td>2</td>\n",
       "      <td>569202</td>\n",
       "    </tr>\n",
       "  </tbody>\n",
       "</table>\n",
       "</div>"
      ],
      "text/plain": [
       "           BOROUGH NEIGHBORHOOD         BUILDING_CLASS_CATEGORY  \\\n",
       "SALE DATE                                                         \n",
       "2019-04-30       4        OTHER         01 ONE FAMILY DWELLINGS   \n",
       "2019-04-30       4        OTHER    09 COOPS - WALKUP APARTMENTS   \n",
       "2019-04-30       4        OTHER  10 COOPS - ELEVATOR APARTMENTS   \n",
       "2019-04-30       4        OTHER         02 TWO FAMILY DWELLINGS   \n",
       "2019-04-30       4        OTHER   12 CONDOS - WALKUP APARTMENTS   \n",
       "\n",
       "           TAX_CLASS_AT_PRESENT  BLOCK   LOT  EASE-MENT  ZIP_CODE  \\\n",
       "SALE DATE                                                           \n",
       "2019-04-30                    1  10965   276        NaN   11429.0   \n",
       "2019-04-30                    2    169    29        NaN   11104.0   \n",
       "2019-04-30                    2    131     4        NaN   11377.0   \n",
       "2019-04-30                    1   8932    18        NaN   11421.0   \n",
       "2019-04-30                    2   1216  1161        NaN   11377.0   \n",
       "\n",
       "            RESIDENTIAL_UNITS  COMMERCIAL_UNITS  TOTAL_UNITS  \\\n",
       "SALE DATE                                                      \n",
       "2019-04-30                1.0               0.0          1.0   \n",
       "2019-04-30                0.0               0.0          0.0   \n",
       "2019-04-30                0.0               0.0          0.0   \n",
       "2019-04-30                2.0               1.0          3.0   \n",
       "2019-04-30                1.0               0.0         85.0   \n",
       "\n",
       "            GROSS_SQUARE_FEET  YEAR_BUILT  TAX_CLASS_AT_TIME_OF_SALE  \\\n",
       "SALE DATE                                                              \n",
       "2019-04-30             1224.0      1945.0                          1   \n",
       "2019-04-30                0.0      1929.0                          2   \n",
       "2019-04-30                0.0      1932.0                          2   \n",
       "2019-04-30             2200.0      1931.0                          1   \n",
       "2019-04-30              854.0      1927.0                          2   \n",
       "\n",
       "            SALE_PRICE  \n",
       "SALE DATE               \n",
       "2019-04-30      510000  \n",
       "2019-04-30      355000  \n",
       "2019-04-30      375000  \n",
       "2019-04-30     1100000  \n",
       "2019-04-30      569202  "
      ]
     },
     "execution_count": 8,
     "metadata": {},
     "output_type": "execute_result"
    }
   ],
   "source": [
    "df.tail()"
   ]
  },
  {
   "cell_type": "code",
   "execution_count": 9,
   "metadata": {
    "scrolled": true
   },
   "outputs": [
    {
     "name": "stdout",
     "output_type": "stream",
     "text": [
      "<class 'pandas.core.frame.DataFrame'>\n",
      "DatetimeIndex: 23040 entries, 2019-01-01 to 2019-04-30\n",
      "Data columns (total 15 columns):\n",
      " #   Column                     Non-Null Count  Dtype  \n",
      "---  ------                     --------------  -----  \n",
      " 0   BOROUGH                    23040 non-null  object \n",
      " 1   NEIGHBORHOOD               23040 non-null  object \n",
      " 2   BUILDING_CLASS_CATEGORY    23040 non-null  object \n",
      " 3   TAX_CLASS_AT_PRESENT       23039 non-null  object \n",
      " 4   BLOCK                      23040 non-null  int64  \n",
      " 5   LOT                        23040 non-null  int64  \n",
      " 6   EASE-MENT                  0 non-null      float64\n",
      " 7   ZIP_CODE                   23039 non-null  float64\n",
      " 8   RESIDENTIAL_UNITS          23039 non-null  float64\n",
      " 9   COMMERCIAL_UNITS           23039 non-null  float64\n",
      " 10  TOTAL_UNITS                23039 non-null  float64\n",
      " 11  GROSS_SQUARE_FEET          23039 non-null  float64\n",
      " 12  YEAR_BUILT                 23005 non-null  float64\n",
      " 13  TAX_CLASS_AT_TIME_OF_SALE  23040 non-null  int64  \n",
      " 14  SALE_PRICE                 23040 non-null  int64  \n",
      "dtypes: float64(7), int64(4), object(4)\n",
      "memory usage: 2.8+ MB\n"
     ]
    }
   ],
   "source": [
    "df.info()"
   ]
  },
  {
   "cell_type": "code",
   "execution_count": 10,
   "metadata": {},
   "outputs": [
    {
     "data": {
      "text/plain": [
       "array([nan])"
      ]
     },
     "execution_count": 10,
     "metadata": {},
     "output_type": "execute_result"
    }
   ],
   "source": [
    "df['EASE-MENT'].unique()"
   ]
  },
  {
   "cell_type": "code",
   "execution_count": 11,
   "metadata": {},
   "outputs": [],
   "source": [
    "# Subset df with the specifications from assignment (1 fam dwellings and price range of 100k to 2M)\n",
    "# Dropping EASE-MENT because it is all NaN\n",
    "df = df[(df['BUILDING_CLASS_CATEGORY'] == '01 ONE FAMILY DWELLINGS') & \n",
    "        (df['SALE_PRICE'] > 100000) & (df['SALE_PRICE'] < 2000000)].drop(columns = 'EASE-MENT')"
   ]
  },
  {
   "cell_type": "code",
   "execution_count": 12,
   "metadata": {},
   "outputs": [
    {
     "name": "stdout",
     "output_type": "stream",
     "text": [
      "<class 'pandas.core.frame.DataFrame'>\n",
      "DatetimeIndex: 3151 entries, 2019-01-01 to 2019-04-30\n",
      "Data columns (total 14 columns):\n",
      " #   Column                     Non-Null Count  Dtype  \n",
      "---  ------                     --------------  -----  \n",
      " 0   BOROUGH                    3151 non-null   object \n",
      " 1   NEIGHBORHOOD               3151 non-null   object \n",
      " 2   BUILDING_CLASS_CATEGORY    3151 non-null   object \n",
      " 3   TAX_CLASS_AT_PRESENT       3151 non-null   object \n",
      " 4   BLOCK                      3151 non-null   int64  \n",
      " 5   LOT                        3151 non-null   int64  \n",
      " 6   ZIP_CODE                   3151 non-null   float64\n",
      " 7   RESIDENTIAL_UNITS          3151 non-null   float64\n",
      " 8   COMMERCIAL_UNITS           3151 non-null   float64\n",
      " 9   TOTAL_UNITS                3151 non-null   float64\n",
      " 10  GROSS_SQUARE_FEET          3151 non-null   float64\n",
      " 11  YEAR_BUILT                 3151 non-null   float64\n",
      " 12  TAX_CLASS_AT_TIME_OF_SALE  3151 non-null   int64  \n",
      " 13  SALE_PRICE                 3151 non-null   int64  \n",
      "dtypes: float64(6), int64(4), object(4)\n",
      "memory usage: 369.3+ KB\n"
     ]
    }
   ],
   "source": [
    "df.info()"
   ]
  },
  {
   "cell_type": "markdown",
   "metadata": {},
   "source": [
    "The cells below are the code I ran during EDA to drop high-cardinality categorical variables."
   ]
  },
  {
   "cell_type": "code",
   "execution_count": 13,
   "metadata": {
    "scrolled": false
   },
   "outputs": [],
   "source": [
    "# df.select_dtypes('object').nunique()"
   ]
  },
  {
   "cell_type": "code",
   "execution_count": 14,
   "metadata": {},
   "outputs": [],
   "source": [
    "# df['BOROUGH'].nunique()"
   ]
  },
  {
   "cell_type": "code",
   "execution_count": 15,
   "metadata": {},
   "outputs": [],
   "source": [
    "# PRAC = pd.read_csv(DATA_PATH+'condos/NYC_Citywide_Rolling_Calendar_Sales.csv')\n",
    "# PRAC['BUILDING CLASS CATEGORY'].nunique()"
   ]
  },
  {
   "cell_type": "code",
   "execution_count": 16,
   "metadata": {},
   "outputs": [],
   "source": [
    "# df['TAX_CLASS_AT_PRESENT'].nunique()"
   ]
  },
  {
   "cell_type": "markdown",
   "metadata": {},
   "source": [
    "## Split Data"
   ]
  },
  {
   "cell_type": "code",
   "execution_count": 17,
   "metadata": {},
   "outputs": [],
   "source": [
    "# split data into feature matrix and target vector\n",
    "target = 'SALE_PRICE'\n",
    "y = df[target]\n",
    "X = df.drop(columns = target)"
   ]
  },
  {
   "cell_type": "code",
   "execution_count": 18,
   "metadata": {},
   "outputs": [],
   "source": [
    "# split data into training and test sets\n",
    "cutoff = '2019-04-01'\n",
    "mask = X.index < cutoff\n",
    "X_train, y_train = X.loc[mask], y.loc[mask]\n",
    "X_test, y_test = X.loc[~mask], y.loc[~mask]"
   ]
  },
  {
   "cell_type": "markdown",
   "metadata": {},
   "source": [
    "## Establish Baseline"
   ]
  },
  {
   "cell_type": "code",
   "execution_count": 19,
   "metadata": {},
   "outputs": [
    {
     "name": "stdout",
     "output_type": "stream",
     "text": [
      "Mean price: 621573.7423214999\n",
      "Baseline MAE: 214721.52773001452\n"
     ]
    }
   ],
   "source": [
    "y_pred = [y_train.mean()] * len(y_train)\n",
    "print('Mean price:', y_train.mean())\n",
    "print('Baseline MAE:', mean_absolute_error(y_train, y_pred))"
   ]
  },
  {
   "cell_type": "markdown",
   "metadata": {},
   "source": [
    "## Build Models"
   ]
  },
  {
   "cell_type": "code",
   "execution_count": 20,
   "metadata": {},
   "outputs": [
    {
     "name": "stderr",
     "output_type": "stream",
     "text": [
      "/Users/keila/Documents/Lambda/Units_Git/DS-Unit-2-Linear-Models/unit2venv/lib/python3.8/site-packages/category_encoders/utils.py:21: FutureWarning: is_categorical is deprecated and will be removed in a future version.  Use is_categorical_dtype instead\n",
      "  elif pd.api.types.is_categorical(cols):\n"
     ]
    }
   ],
   "source": [
    "# Import transformer class...did it above\n",
    "\n",
    "# Instantiate transformer\n",
    "ohe = OneHotEncoder(use_cat_names = True)\n",
    "\n",
    "# Fit transformer to training data\n",
    "ohe.fit(X_train)\n",
    "\n",
    "# Transform training and test data\n",
    "XT_train = ohe.transform(X_train)\n",
    "XT_test = ohe.transform(X_test)"
   ]
  },
  {
   "cell_type": "markdown",
   "metadata": {},
   "source": [
    "**Model 1:** Linear Regression (Plain old LR)"
   ]
  },
  {
   "cell_type": "code",
   "execution_count": 54,
   "metadata": {},
   "outputs": [
    {
     "data": {
      "text/plain": [
       "LinearRegression(normalize=True)"
      ]
     },
     "execution_count": 54,
     "metadata": {},
     "output_type": "execute_result"
    }
   ],
   "source": [
    "# Instantiate class\n",
    "model_lr = LinearRegression(normalize=True)\n",
    "\n",
    "# Fit model\n",
    "model_lr.fit(XT_train, y_train)"
   ]
  },
  {
   "cell_type": "markdown",
   "metadata": {},
   "source": [
    "**Model 2:** Ridge Regression (Regularization)"
   ]
  },
  {
   "cell_type": "code",
   "execution_count": 24,
   "metadata": {},
   "outputs": [
    {
     "data": {
      "text/plain": [
       "Ridge()"
      ]
     },
     "execution_count": 24,
     "metadata": {},
     "output_type": "execute_result"
    }
   ],
   "source": [
    "# Instantiate class\n",
    "model_r = Ridge(alpha = 1.0)\n",
    "\n",
    "# Fit model\n",
    "model_r.fit(XT_train, y_train)"
   ]
  },
  {
   "cell_type": "markdown",
   "metadata": {},
   "source": [
    "**Model 3:** SelectKBest"
   ]
  },
  {
   "cell_type": "code",
   "execution_count": 44,
   "metadata": {},
   "outputs": [
    {
     "data": {
      "text/plain": [
       "LinearRegression()"
      ]
     },
     "execution_count": 44,
     "metadata": {},
     "output_type": "execute_result"
    }
   ],
   "source": [
    "# Instantiate transformer\n",
    "skb = SelectKBest(f_regression, k = 15)\n",
    "\n",
    "# Fit transformer to training data\n",
    "skb.fit(XT_train, y_train)\n",
    "\n",
    "# Transform training and test data\n",
    "XTT_train = skb.transform(XT_train)\n",
    "XTT_test = skb.transform(XT_test)\n",
    "\n",
    "# Instantiate class\n",
    "model_lr2 = LinearRegression()\n",
    "\n",
    "# Fit model with transformed training set\n",
    "model_lr2.fit(XTT_train, y_train)"
   ]
  },
  {
   "cell_type": "markdown",
   "metadata": {},
   "source": [
    "## Check Metrics"
   ]
  },
  {
   "cell_type": "markdown",
   "metadata": {},
   "source": [
    "Checking Model 1's Metrics"
   ]
  },
  {
   "cell_type": "code",
   "execution_count": 22,
   "metadata": {},
   "outputs": [
    {
     "name": "stdout",
     "output_type": "stream",
     "text": [
      "LR training MAE: 156330.2446703739\n",
      "LR test MAE: 160586.94040065832\n"
     ]
    }
   ],
   "source": [
    "print('LR training MAE:', mean_absolute_error(y_train, model_lr.predict(XT_train)))\n",
    "print('LR test MAE:', mean_absolute_error(y_test, model_lr.predict(XT_test)))"
   ]
  },
  {
   "cell_type": "markdown",
   "metadata": {},
   "source": [
    "Checking Model 2's Metrics"
   ]
  },
  {
   "cell_type": "code",
   "execution_count": 55,
   "metadata": {},
   "outputs": [
    {
     "name": "stdout",
     "output_type": "stream",
     "text": [
      "Ridge training MAE: 156346.5337290741\n",
      "Ridge test MAE: 160506.64794815847\n"
     ]
    }
   ],
   "source": [
    "print('Ridge training MAE:', mean_absolute_error(y_train, model_r.predict(XT_train)))\n",
    "print('Ridge test MAE:', mean_absolute_error(y_test, model_r.predict(XT_test)))"
   ]
  },
  {
   "cell_type": "markdown",
   "metadata": {},
   "source": [
    "Checking Model 3's Metrics"
   ]
  },
  {
   "cell_type": "code",
   "execution_count": 45,
   "metadata": {},
   "outputs": [
    {
     "name": "stdout",
     "output_type": "stream",
     "text": [
      "LR training with SKB MAE: 158025.33982107847\n",
      "LR training with SKB MAE: 160122.580453062\n"
     ]
    }
   ],
   "source": [
    "print('LR training with SKB MAE:', mean_absolute_error(y_train, model_lr2.predict(XTT_train)))\n",
    "print('LR training with SKB MAE:', mean_absolute_error(y_test, model_lr2.predict(XTT_test)))"
   ]
  },
  {
   "cell_type": "markdown",
   "metadata": {},
   "source": [
    "## Communicating Results"
   ]
  },
  {
   "cell_type": "code",
   "execution_count": 23,
   "metadata": {},
   "outputs": [
    {
     "data": {
      "image/png": "[encoded data removed]",
      "text/plain": [
       "<Figure size 432x288 with 1 Axes>"
      ]
     },
     "metadata": {
      "needs_background": "light"
     },
     "output_type": "display_data"
    }
   ],
   "source": [
    "feature_names = ohe.get_feature_names()\n",
    "coefficients = model_lr.coef_\n",
    "feature_importances = pd.Series(coefficients, index = feature_names).sort_values(key = abs)\n",
    "feature_importances.tail(10).plot(kind = 'barh', title = 'Linear Coefficients');"
   ]
  },
  {
   "cell_type": "code",
   "execution_count": 27,
   "metadata": {},
   "outputs": [
    {
     "data": {
      "text/plain": [
       "<AxesSubplot:title={'center':'Ridge Coefficients'}>"
      ]
     },
     "execution_count": 27,
     "metadata": {},
     "output_type": "execute_result"
    },
    {
     "data": {
      "image/png": "[encoded data removed]",
      "text/plain": [
       "<Figure size 432x288 with 1 Axes>"
      ]
     },
     "metadata": {
      "needs_background": "light"
     },
     "output_type": "display_data"
    }
   ],
   "source": [
    "feature_names = ohe.get_feature_names()\n",
    "coefficients_r = model_r.coef_\n",
    "feature_importances_r = pd.Series(coefficients_r, index = feature_names).sort_values(key = abs)\n",
    "feature_importances_r.tail(10).plot(kind = 'barh', title = 'Ridge Coefficients')"
   ]
  }
 ],
 "metadata": {
  "kernelspec": {
   "display_name": "unit2venv",
   "language": "python",
   "name": "unit2venv"
  },
  "language_info": {
   "codemirror_mode": {
    "name": "ipython",
    "version": 3
   },
   "file_extension": ".py",
   "mimetype": "text/x-python",
   "name": "python",
   "nbconvert_exporter": "python",
   "pygments_lexer": "ipython3",
   "version": "3.8.6"
  }
 },
 "nbformat": 4,
 "nbformat_minor": 1
}
